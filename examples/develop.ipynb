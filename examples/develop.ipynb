{
 "cells": [
  {
   "cell_type": "markdown",
   "metadata": {},
   "source": [
    "# Package Development"
   ]
  },
  {
   "cell_type": "code",
   "execution_count": 1,
   "metadata": {},
   "outputs": [
    {
     "name": "stdout",
     "output_type": "stream",
     "text": [
      "Collecting git+https://github.com/fuyu-quant/CreateTool-AGI.git\n",
      "  Cloning https://github.com/fuyu-quant/CreateTool-AGI.git to /tmp/pip-req-build-g7ojityz\n",
      "  Running command git clone --filter=blob:none --quiet https://github.com/fuyu-quant/CreateTool-AGI.git /tmp/pip-req-build-g7ojityz\n",
      "  Resolved https://github.com/fuyu-quant/CreateTool-AGI.git to commit 5fb4dad4fa0a19126e1d073d54187fc24b796ea8\n",
      "  Preparing metadata (setup.py) ... \u001b[?25ldone\n",
      "\u001b[?25hRequirement already satisfied: langchain==0.0.167 in /opt/conda/lib/python3.10/site-packages (from createtoolagi==0.2.2) (0.0.167)\n",
      "Requirement already satisfied: openai==0.27.4 in /opt/conda/lib/python3.10/site-packages (from createtoolagi==0.2.2) (0.27.4)\n",
      "Requirement already satisfied: tiktoken==0.4.0 in /opt/conda/lib/python3.10/site-packages (from createtoolagi==0.2.2) (0.4.0)\n",
      "Requirement already satisfied: qdrant-client==1.2.0 in /opt/conda/lib/python3.10/site-packages (from createtoolagi==0.2.2) (1.2.0)\n",
      "Requirement already satisfied: PyYAML>=5.4.1 in /opt/conda/lib/python3.10/site-packages (from langchain==0.0.167->createtoolagi==0.2.2) (6.0)\n",
      "Requirement already satisfied: SQLAlchemy<3,>=1.4 in /opt/conda/lib/python3.10/site-packages (from langchain==0.0.167->createtoolagi==0.2.2) (2.0.5.post1)\n",
      "Requirement already satisfied: numpy<2,>=1 in /opt/conda/lib/python3.10/site-packages (from langchain==0.0.167->createtoolagi==0.2.2) (1.23.5)\n",
      "Requirement already satisfied: async-timeout<5.0.0,>=4.0.0 in /opt/conda/lib/python3.10/site-packages (from langchain==0.0.167->createtoolagi==0.2.2) (4.0.2)\n",
      "Requirement already satisfied: pydantic<2,>=1 in /opt/conda/lib/python3.10/site-packages (from langchain==0.0.167->createtoolagi==0.2.2) (1.10.8)\n",
      "Requirement already satisfied: numexpr<3.0.0,>=2.8.4 in /opt/conda/lib/python3.10/site-packages (from langchain==0.0.167->createtoolagi==0.2.2) (2.8.4)\n",
      "Requirement already satisfied: requests<3,>=2 in /opt/conda/lib/python3.10/site-packages (from langchain==0.0.167->createtoolagi==0.2.2) (2.28.2)\n",
      "Requirement already satisfied: tenacity<9.0.0,>=8.1.0 in /opt/conda/lib/python3.10/site-packages (from langchain==0.0.167->createtoolagi==0.2.2) (8.2.2)\n",
      "Requirement already satisfied: openapi-schema-pydantic<2.0,>=1.2 in /opt/conda/lib/python3.10/site-packages (from langchain==0.0.167->createtoolagi==0.2.2) (1.2.4)\n",
      "Requirement already satisfied: tqdm>=4.48.0 in /opt/conda/lib/python3.10/site-packages (from langchain==0.0.167->createtoolagi==0.2.2) (4.65.0)\n",
      "Requirement already satisfied: aiohttp<4.0.0,>=3.8.3 in /opt/conda/lib/python3.10/site-packages (from langchain==0.0.167->createtoolagi==0.2.2) (3.8.4)\n",
      "Requirement already satisfied: dataclasses-json<0.6.0,>=0.5.7 in /opt/conda/lib/python3.10/site-packages (from langchain==0.0.167->createtoolagi==0.2.2) (0.5.7)\n",
      "Requirement already satisfied: httpx[http2]>=0.14.0 in /opt/conda/lib/python3.10/site-packages (from qdrant-client==1.2.0->createtoolagi==0.2.2) (0.24.1)\n",
      "Requirement already satisfied: portalocker<3.0.0,>=2.7.0 in /opt/conda/lib/python3.10/site-packages (from qdrant-client==1.2.0->createtoolagi==0.2.2) (2.7.0)\n",
      "Requirement already satisfied: typing-extensions<4.6.0,>=4.0.0 in /opt/conda/lib/python3.10/site-packages (from qdrant-client==1.2.0->createtoolagi==0.2.2) (4.5.0)\n",
      "Requirement already satisfied: urllib3<2.0.0,>=1.26.14 in /opt/conda/lib/python3.10/site-packages (from qdrant-client==1.2.0->createtoolagi==0.2.2) (1.26.15)\n",
      "Requirement already satisfied: grpcio-tools>=1.41.0 in /opt/conda/lib/python3.10/site-packages (from qdrant-client==1.2.0->createtoolagi==0.2.2) (1.54.2)\n",
      "Requirement already satisfied: grpcio>=1.41.0 in /opt/conda/lib/python3.10/site-packages (from qdrant-client==1.2.0->createtoolagi==0.2.2) (1.54.2)\n",
      "Requirement already satisfied: regex>=2022.1.18 in /opt/conda/lib/python3.10/site-packages (from tiktoken==0.4.0->createtoolagi==0.2.2) (2023.5.5)\n",
      "Requirement already satisfied: charset-normalizer<4.0,>=2.0 in /opt/conda/lib/python3.10/site-packages (from aiohttp<4.0.0,>=3.8.3->langchain==0.0.167->createtoolagi==0.2.2) (2.1.1)\n",
      "Requirement already satisfied: aiosignal>=1.1.2 in /opt/conda/lib/python3.10/site-packages (from aiohttp<4.0.0,>=3.8.3->langchain==0.0.167->createtoolagi==0.2.2) (1.3.1)\n",
      "Requirement already satisfied: multidict<7.0,>=4.5 in /opt/conda/lib/python3.10/site-packages (from aiohttp<4.0.0,>=3.8.3->langchain==0.0.167->createtoolagi==0.2.2) (6.0.4)\n",
      "Requirement already satisfied: attrs>=17.3.0 in /opt/conda/lib/python3.10/site-packages (from aiohttp<4.0.0,>=3.8.3->langchain==0.0.167->createtoolagi==0.2.2) (22.2.0)\n",
      "Requirement already satisfied: frozenlist>=1.1.1 in /opt/conda/lib/python3.10/site-packages (from aiohttp<4.0.0,>=3.8.3->langchain==0.0.167->createtoolagi==0.2.2) (1.3.3)\n",
      "Requirement already satisfied: yarl<2.0,>=1.0 in /opt/conda/lib/python3.10/site-packages (from aiohttp<4.0.0,>=3.8.3->langchain==0.0.167->createtoolagi==0.2.2) (1.9.2)\n",
      "Requirement already satisfied: marshmallow<4.0.0,>=3.3.0 in /opt/conda/lib/python3.10/site-packages (from dataclasses-json<0.6.0,>=0.5.7->langchain==0.0.167->createtoolagi==0.2.2) (3.19.0)\n",
      "Requirement already satisfied: marshmallow-enum<2.0.0,>=1.5.1 in /opt/conda/lib/python3.10/site-packages (from dataclasses-json<0.6.0,>=0.5.7->langchain==0.0.167->createtoolagi==0.2.2) (1.5.1)\n",
      "Requirement already satisfied: typing-inspect>=0.4.0 in /opt/conda/lib/python3.10/site-packages (from dataclasses-json<0.6.0,>=0.5.7->langchain==0.0.167->createtoolagi==0.2.2) (0.9.0)\n",
      "Requirement already satisfied: setuptools in /opt/conda/lib/python3.10/site-packages (from grpcio-tools>=1.41.0->qdrant-client==1.2.0->createtoolagi==0.2.2) (67.6.0)\n",
      "Requirement already satisfied: protobuf<5.0dev,>=4.21.6 in /opt/conda/lib/python3.10/site-packages (from grpcio-tools>=1.41.0->qdrant-client==1.2.0->createtoolagi==0.2.2) (4.21.12)\n",
      "Requirement already satisfied: httpcore<0.18.0,>=0.15.0 in /opt/conda/lib/python3.10/site-packages (from httpx[http2]>=0.14.0->qdrant-client==1.2.0->createtoolagi==0.2.2) (0.17.2)\n",
      "Requirement already satisfied: certifi in /opt/conda/lib/python3.10/site-packages (from httpx[http2]>=0.14.0->qdrant-client==1.2.0->createtoolagi==0.2.2) (2022.12.7)\n",
      "Requirement already satisfied: sniffio in /opt/conda/lib/python3.10/site-packages (from httpx[http2]>=0.14.0->qdrant-client==1.2.0->createtoolagi==0.2.2) (1.3.0)\n",
      "Requirement already satisfied: idna in /opt/conda/lib/python3.10/site-packages (from httpx[http2]>=0.14.0->qdrant-client==1.2.0->createtoolagi==0.2.2) (3.4)\n",
      "Requirement already satisfied: h2<5,>=3 in /opt/conda/lib/python3.10/site-packages (from httpx[http2]>=0.14.0->qdrant-client==1.2.0->createtoolagi==0.2.2) (4.1.0)\n",
      "Requirement already satisfied: greenlet!=0.4.17 in /opt/conda/lib/python3.10/site-packages (from SQLAlchemy<3,>=1.4->langchain==0.0.167->createtoolagi==0.2.2) (2.0.2)\n",
      "Requirement already satisfied: hpack<5,>=4.0 in /opt/conda/lib/python3.10/site-packages (from h2<5,>=3->httpx[http2]>=0.14.0->qdrant-client==1.2.0->createtoolagi==0.2.2) (4.0.0)\n",
      "Requirement already satisfied: hyperframe<7,>=6.0 in /opt/conda/lib/python3.10/site-packages (from h2<5,>=3->httpx[http2]>=0.14.0->qdrant-client==1.2.0->createtoolagi==0.2.2) (6.0.1)\n",
      "Requirement already satisfied: anyio<5.0,>=3.0 in /opt/conda/lib/python3.10/site-packages (from httpcore<0.18.0,>=0.15.0->httpx[http2]>=0.14.0->qdrant-client==1.2.0->createtoolagi==0.2.2) (3.6.2)\n",
      "Requirement already satisfied: h11<0.15,>=0.13 in /opt/conda/lib/python3.10/site-packages (from httpcore<0.18.0,>=0.15.0->httpx[http2]>=0.14.0->qdrant-client==1.2.0->createtoolagi==0.2.2) (0.14.0)\n",
      "Requirement already satisfied: packaging>=17.0 in /opt/conda/lib/python3.10/site-packages (from marshmallow<4.0.0,>=3.3.0->dataclasses-json<0.6.0,>=0.5.7->langchain==0.0.167->createtoolagi==0.2.2) (23.0)\n",
      "Requirement already satisfied: mypy-extensions>=0.3.0 in /opt/conda/lib/python3.10/site-packages (from typing-inspect>=0.4.0->dataclasses-json<0.6.0,>=0.5.7->langchain==0.0.167->createtoolagi==0.2.2) (1.0.0)\n"
     ]
    }
   ],
   "source": [
    "!pip install git+https://github.com/fuyu-quant/CreateTool-AGI.git"
   ]
  },
  {
   "cell_type": "code",
   "execution_count": 5,
   "metadata": {},
   "outputs": [],
   "source": [
    "%load_ext autoreload\n",
    "%aimport createtoolagi"
   ]
  },
  {
   "cell_type": "code",
   "execution_count": 2,
   "metadata": {},
   "outputs": [],
   "source": [
    "!rm -r ./tools"
   ]
  },
  {
   "cell_type": "code",
   "execution_count": 3,
   "metadata": {},
   "outputs": [],
   "source": [
    "from createtoolagi import CTAGI\n",
    "\n",
    "base_model_name = 'gpt-4'\n",
    "create_model_name = 'gpt-4'\n",
    "embegging_model_name = 'text-embedding-ada-002'\n",
    "\n",
    "ctagi = CTAGI(\n",
    "    base_model_name=base_model_name, \n",
    "    create_model_name=create_model_name, \n",
    "    embegging_model_name=embegging_model_name\n",
    "    )"
   ]
  },
  {
   "cell_type": "code",
   "execution_count": 4,
   "metadata": {},
   "outputs": [
    {
     "name": "stdout",
     "output_type": "stream",
     "text": [
      "> Generalize the input task.\n",
      "\u001b[32mGeneralized Task：What is the sum of the prime numbers from A to B?\n",
      "\u001b[0m\n",
      "> Search tools.\n",
      "\u001b[32mSearch results：\n",
      "[]\n",
      "\u001b[0m\n",
      "> Decide if the task is executable.\n",
      "\u001b[32mI must create the tool before executing.\n",
      "\u001b[0m\n",
      "Try:1\n",
      "> Create a tool.\n",
      "\u001b[32mCompleted!\n",
      "Created tool name：PrimeSumTool\n",
      "\u001b[0m\n",
      "> Execute the task with the tool you created.\n",
      "\u001b[32mError occurred: name 'tools' is not defined\n",
      "\u001b[0m\n",
      "Try:2\n",
      "> Create a tool.\n"
     ]
    },
    {
     "name": "stderr",
     "output_type": "stream",
     "text": [
      "Traceback (most recent call last):\n",
      "  File \"/opt/conda/lib/python3.10/site-packages/createtoolagi/ctagi.py\", line 66, in run\n",
      "    self.executor.run_with_create_tool(input, tool_code = tool_code)\n",
      "  File \"/opt/conda/lib/python3.10/site-packages/createtoolagi/executor.py\", line 48, in run_with_create_tool\n",
      "    exec(f'tools.append({tool_name})', globals())\n",
      "  File \"<string>\", line 1, in <module>\n",
      "NameError: name 'tools' is not defined\n"
     ]
    },
    {
     "name": "stdout",
     "output_type": "stream",
     "text": [
      "\u001b[32mCompleted!\n",
      "Created tool name：PrimeSumTool\n",
      "\u001b[0m\n",
      "> Execute the task with the tool you created.\n",
      "\u001b[32mError occurred: name 'tools' is not defined\n",
      "\u001b[0m\n",
      "Try:3\n",
      "> Create a tool.\n"
     ]
    },
    {
     "name": "stderr",
     "output_type": "stream",
     "text": [
      "Traceback (most recent call last):\n",
      "  File \"/opt/conda/lib/python3.10/site-packages/createtoolagi/ctagi.py\", line 66, in run\n",
      "    self.executor.run_with_create_tool(input, tool_code = tool_code)\n",
      "  File \"/opt/conda/lib/python3.10/site-packages/createtoolagi/executor.py\", line 48, in run_with_create_tool\n",
      "    exec(f'tools.append({tool_name})', globals())\n",
      "  File \"<string>\", line 1, in <module>\n",
      "NameError: name 'tools' is not defined\n"
     ]
    },
    {
     "name": "stdout",
     "output_type": "stream",
     "text": [
      "\u001b[32mCompleted!\n",
      "Created tool name：PrimeSumTool\n",
      "\u001b[0m\n",
      "> Execute the task with the tool you created.\n",
      "\u001b[32mError occurred: name 'tools' is not defined\n",
      "\u001b[0m\n",
      "Try:4\n",
      "> Create a tool.\n"
     ]
    },
    {
     "name": "stderr",
     "output_type": "stream",
     "text": [
      "Traceback (most recent call last):\n",
      "  File \"/opt/conda/lib/python3.10/site-packages/createtoolagi/ctagi.py\", line 66, in run\n",
      "    self.executor.run_with_create_tool(input, tool_code = tool_code)\n",
      "  File \"/opt/conda/lib/python3.10/site-packages/createtoolagi/executor.py\", line 48, in run_with_create_tool\n",
      "    exec(f'tools.append({tool_name})', globals())\n",
      "  File \"<string>\", line 1, in <module>\n",
      "NameError: name 'tools' is not defined\n"
     ]
    },
    {
     "name": "stdout",
     "output_type": "stream",
     "text": [
      "\u001b[32mCompleted!\n",
      "Created tool name：PrimeSumTool\n",
      "\u001b[0m\n",
      "> Execute the task with the tool you created.\n",
      "\u001b[32mError occurred: name 'tools' is not defined\n",
      "\u001b[0m\n",
      "Try:5\n",
      "> Create a tool.\n"
     ]
    },
    {
     "name": "stderr",
     "output_type": "stream",
     "text": [
      "Traceback (most recent call last):\n",
      "  File \"/opt/conda/lib/python3.10/site-packages/createtoolagi/ctagi.py\", line 66, in run\n",
      "    self.executor.run_with_create_tool(input, tool_code = tool_code)\n",
      "  File \"/opt/conda/lib/python3.10/site-packages/createtoolagi/executor.py\", line 48, in run_with_create_tool\n",
      "    exec(f'tools.append({tool_name})', globals())\n",
      "  File \"<string>\", line 1, in <module>\n",
      "NameError: name 'tools' is not defined\n"
     ]
    },
    {
     "name": "stdout",
     "output_type": "stream",
     "text": [
      "\u001b[32mCompleted!\n",
      "Created tool name：PrimeSumTool\n",
      "\u001b[0m\n",
      "> Execute the task with the tool you created.\n",
      "\u001b[32mError occurred: name 'tools' is not defined\n",
      "\u001b[0m\n",
      "\u001b[32mReached the maximum number of tries.\u001b[0m\n"
     ]
    },
    {
     "name": "stderr",
     "output_type": "stream",
     "text": [
      "Traceback (most recent call last):\n",
      "  File \"/opt/conda/lib/python3.10/site-packages/createtoolagi/ctagi.py\", line 66, in run\n",
      "    self.executor.run_with_create_tool(input, tool_code = tool_code)\n",
      "  File \"/opt/conda/lib/python3.10/site-packages/createtoolagi/executor.py\", line 48, in run_with_create_tool\n",
      "    exec(f'tools.append({tool_name})', globals())\n",
      "  File \"<string>\", line 1, in <module>\n",
      "NameError: name 'tools' is not defined\n"
     ]
    }
   ],
   "source": [
    "input = 'What is the sum of the prime numbers from 1 to 100000?'\n",
    "\n",
    "ctagi.run(input=input)"
   ]
  },
  {
   "cell_type": "code",
   "execution_count": 5,
   "metadata": {},
   "outputs": [
    {
     "ename": "NameError",
     "evalue": "name 'A' is not defined",
     "output_type": "error",
     "traceback": [
      "\u001b[0;31m---------------------------------------------------------------------------\u001b[0m",
      "\u001b[0;31mNameError\u001b[0m                                 Traceback (most recent call last)",
      "Cell \u001b[0;32mIn[5], line 5\u001b[0m\n\u001b[1;32m      1\u001b[0m tool_name \u001b[38;5;241m=\u001b[39m \u001b[38;5;124m'\u001b[39m\u001b[38;5;124mA\u001b[39m\u001b[38;5;124m'\u001b[39m\n\u001b[1;32m      3\u001b[0m tools \u001b[38;5;241m=\u001b[39m []\n\u001b[0;32m----> 5\u001b[0m \u001b[43mexec\u001b[49m\u001b[43m(\u001b[49m\u001b[38;5;124;43mf\u001b[39;49m\u001b[38;5;124;43m'\u001b[39;49m\u001b[38;5;124;43mtools.append(\u001b[39;49m\u001b[38;5;132;43;01m{\u001b[39;49;00m\u001b[43mtool_name\u001b[49m\u001b[38;5;132;43;01m}\u001b[39;49;00m\u001b[38;5;124;43m)\u001b[39;49m\u001b[38;5;124;43m'\u001b[39;49m\u001b[43m,\u001b[49m\u001b[43m \u001b[49m\u001b[38;5;28;43mglobals\u001b[39;49m\u001b[43m(\u001b[49m\u001b[43m)\u001b[49m\u001b[43m)\u001b[49m\n\u001b[1;32m      7\u001b[0m tools\n",
      "File \u001b[0;32m<string>:1\u001b[0m\n",
      "\u001b[0;31mNameError\u001b[0m: name 'A' is not defined"
     ]
    }
   ],
   "source": [
    "tool_name = 'A'\n",
    "\n",
    "tools = []\n",
    "\n",
    "exec(f'tools.append({tool_name})', globals())\n",
    "\n",
    "tools"
   ]
  },
  {
   "cell_type": "code",
   "execution_count": null,
   "metadata": {},
   "outputs": [],
   "source": []
  }
 ],
 "metadata": {
  "kernelspec": {
   "display_name": "Python 3.10.9 ('base')",
   "language": "python",
   "name": "python3"
  },
  "language_info": {
   "codemirror_mode": {
    "name": "ipython",
    "version": 3
   },
   "file_extension": ".py",
   "mimetype": "text/x-python",
   "name": "python",
   "nbconvert_exporter": "python",
   "pygments_lexer": "ipython3",
   "version": "3.10.9"
  },
  "orig_nbformat": 4,
  "vscode": {
   "interpreter": {
    "hash": "d4d1e4263499bec80672ea0156c357c1ee493ec2b1c70f0acce89fc37c4a6abe"
   }
  }
 },
 "nbformat": 4,
 "nbformat_minor": 2
}
