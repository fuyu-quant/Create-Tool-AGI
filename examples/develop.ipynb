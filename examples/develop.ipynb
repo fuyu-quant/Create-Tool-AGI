{
 "cells": [
  {
   "cell_type": "markdown",
   "metadata": {},
   "source": [
    "# Package Development"
   ]
  },
  {
   "cell_type": "code",
   "execution_count": 1,
   "metadata": {},
   "outputs": [
    {
     "name": "stdout",
     "output_type": "stream",
     "text": [
      "Collecting git+https://github.com/fuyu-quant/CreateTool-AGI.git\n",
      "  Cloning https://github.com/fuyu-quant/CreateTool-AGI.git to /tmp/pip-req-build-6o9hf4u7\n",
      "  Running command git clone --filter=blob:none --quiet https://github.com/fuyu-quant/CreateTool-AGI.git /tmp/pip-req-build-6o9hf4u7\n",
      "  Resolved https://github.com/fuyu-quant/CreateTool-AGI.git to commit d0a17d2c4b40c3dbc7872692e4f0c94e29b4f198\n",
      "  Preparing metadata (setup.py) ... \u001b[?25ldone\n",
      "\u001b[?25hRequirement already satisfied: langchain==0.0.167 in /opt/conda/lib/python3.10/site-packages (from createtoolagi==0.2.3) (0.0.167)\n",
      "Requirement already satisfied: openai==0.27.4 in /opt/conda/lib/python3.10/site-packages (from createtoolagi==0.2.3) (0.27.4)\n",
      "Requirement already satisfied: tiktoken==0.4.0 in /opt/conda/lib/python3.10/site-packages (from createtoolagi==0.2.3) (0.4.0)\n",
      "Requirement already satisfied: qdrant-client==1.2.0 in /opt/conda/lib/python3.10/site-packages (from createtoolagi==0.2.3) (1.2.0)\n",
      "Requirement already satisfied: SQLAlchemy<3,>=1.4 in /opt/conda/lib/python3.10/site-packages (from langchain==0.0.167->createtoolagi==0.2.3) (2.0.5.post1)\n",
      "Requirement already satisfied: numexpr<3.0.0,>=2.8.4 in /opt/conda/lib/python3.10/site-packages (from langchain==0.0.167->createtoolagi==0.2.3) (2.8.4)\n",
      "Requirement already satisfied: openapi-schema-pydantic<2.0,>=1.2 in /opt/conda/lib/python3.10/site-packages (from langchain==0.0.167->createtoolagi==0.2.3) (1.2.4)\n",
      "Requirement already satisfied: requests<3,>=2 in /opt/conda/lib/python3.10/site-packages (from langchain==0.0.167->createtoolagi==0.2.3) (2.28.2)\n",
      "Requirement already satisfied: PyYAML>=5.4.1 in /opt/conda/lib/python3.10/site-packages (from langchain==0.0.167->createtoolagi==0.2.3) (6.0)\n",
      "Requirement already satisfied: numpy<2,>=1 in /opt/conda/lib/python3.10/site-packages (from langchain==0.0.167->createtoolagi==0.2.3) (1.23.5)\n",
      "Requirement already satisfied: async-timeout<5.0.0,>=4.0.0 in /opt/conda/lib/python3.10/site-packages (from langchain==0.0.167->createtoolagi==0.2.3) (4.0.2)\n",
      "Requirement already satisfied: dataclasses-json<0.6.0,>=0.5.7 in /opt/conda/lib/python3.10/site-packages (from langchain==0.0.167->createtoolagi==0.2.3) (0.5.7)\n",
      "Requirement already satisfied: pydantic<2,>=1 in /opt/conda/lib/python3.10/site-packages (from langchain==0.0.167->createtoolagi==0.2.3) (1.10.8)\n",
      "Requirement already satisfied: tqdm>=4.48.0 in /opt/conda/lib/python3.10/site-packages (from langchain==0.0.167->createtoolagi==0.2.3) (4.65.0)\n",
      "Requirement already satisfied: aiohttp<4.0.0,>=3.8.3 in /opt/conda/lib/python3.10/site-packages (from langchain==0.0.167->createtoolagi==0.2.3) (3.8.4)\n",
      "Requirement already satisfied: tenacity<9.0.0,>=8.1.0 in /opt/conda/lib/python3.10/site-packages (from langchain==0.0.167->createtoolagi==0.2.3) (8.2.2)\n",
      "Requirement already satisfied: grpcio-tools>=1.41.0 in /opt/conda/lib/python3.10/site-packages (from qdrant-client==1.2.0->createtoolagi==0.2.3) (1.54.2)\n",
      "Requirement already satisfied: urllib3<2.0.0,>=1.26.14 in /opt/conda/lib/python3.10/site-packages (from qdrant-client==1.2.0->createtoolagi==0.2.3) (1.26.15)\n",
      "Requirement already satisfied: grpcio>=1.41.0 in /opt/conda/lib/python3.10/site-packages (from qdrant-client==1.2.0->createtoolagi==0.2.3) (1.54.2)\n",
      "Requirement already satisfied: typing-extensions<4.6.0,>=4.0.0 in /opt/conda/lib/python3.10/site-packages (from qdrant-client==1.2.0->createtoolagi==0.2.3) (4.5.0)\n",
      "Requirement already satisfied: httpx[http2]>=0.14.0 in /opt/conda/lib/python3.10/site-packages (from qdrant-client==1.2.0->createtoolagi==0.2.3) (0.24.1)\n",
      "Requirement already satisfied: portalocker<3.0.0,>=2.7.0 in /opt/conda/lib/python3.10/site-packages (from qdrant-client==1.2.0->createtoolagi==0.2.3) (2.7.0)\n",
      "Requirement already satisfied: regex>=2022.1.18 in /opt/conda/lib/python3.10/site-packages (from tiktoken==0.4.0->createtoolagi==0.2.3) (2023.5.5)\n",
      "Requirement already satisfied: multidict<7.0,>=4.5 in /opt/conda/lib/python3.10/site-packages (from aiohttp<4.0.0,>=3.8.3->langchain==0.0.167->createtoolagi==0.2.3) (6.0.4)\n",
      "Requirement already satisfied: attrs>=17.3.0 in /opt/conda/lib/python3.10/site-packages (from aiohttp<4.0.0,>=3.8.3->langchain==0.0.167->createtoolagi==0.2.3) (22.2.0)\n",
      "Requirement already satisfied: frozenlist>=1.1.1 in /opt/conda/lib/python3.10/site-packages (from aiohttp<4.0.0,>=3.8.3->langchain==0.0.167->createtoolagi==0.2.3) (1.3.3)\n",
      "Requirement already satisfied: yarl<2.0,>=1.0 in /opt/conda/lib/python3.10/site-packages (from aiohttp<4.0.0,>=3.8.3->langchain==0.0.167->createtoolagi==0.2.3) (1.9.2)\n",
      "Requirement already satisfied: aiosignal>=1.1.2 in /opt/conda/lib/python3.10/site-packages (from aiohttp<4.0.0,>=3.8.3->langchain==0.0.167->createtoolagi==0.2.3) (1.3.1)\n",
      "Requirement already satisfied: charset-normalizer<4.0,>=2.0 in /opt/conda/lib/python3.10/site-packages (from aiohttp<4.0.0,>=3.8.3->langchain==0.0.167->createtoolagi==0.2.3) (2.1.1)\n",
      "Requirement already satisfied: marshmallow-enum<2.0.0,>=1.5.1 in /opt/conda/lib/python3.10/site-packages (from dataclasses-json<0.6.0,>=0.5.7->langchain==0.0.167->createtoolagi==0.2.3) (1.5.1)\n",
      "Requirement already satisfied: typing-inspect>=0.4.0 in /opt/conda/lib/python3.10/site-packages (from dataclasses-json<0.6.0,>=0.5.7->langchain==0.0.167->createtoolagi==0.2.3) (0.9.0)\n",
      "Requirement already satisfied: marshmallow<4.0.0,>=3.3.0 in /opt/conda/lib/python3.10/site-packages (from dataclasses-json<0.6.0,>=0.5.7->langchain==0.0.167->createtoolagi==0.2.3) (3.19.0)\n",
      "Requirement already satisfied: protobuf<5.0dev,>=4.21.6 in /opt/conda/lib/python3.10/site-packages (from grpcio-tools>=1.41.0->qdrant-client==1.2.0->createtoolagi==0.2.3) (4.21.12)\n",
      "Requirement already satisfied: setuptools in /opt/conda/lib/python3.10/site-packages (from grpcio-tools>=1.41.0->qdrant-client==1.2.0->createtoolagi==0.2.3) (67.6.0)\n",
      "Requirement already satisfied: sniffio in /opt/conda/lib/python3.10/site-packages (from httpx[http2]>=0.14.0->qdrant-client==1.2.0->createtoolagi==0.2.3) (1.3.0)\n",
      "Requirement already satisfied: httpcore<0.18.0,>=0.15.0 in /opt/conda/lib/python3.10/site-packages (from httpx[http2]>=0.14.0->qdrant-client==1.2.0->createtoolagi==0.2.3) (0.17.2)\n",
      "Requirement already satisfied: certifi in /opt/conda/lib/python3.10/site-packages (from httpx[http2]>=0.14.0->qdrant-client==1.2.0->createtoolagi==0.2.3) (2022.12.7)\n",
      "Requirement already satisfied: idna in /opt/conda/lib/python3.10/site-packages (from httpx[http2]>=0.14.0->qdrant-client==1.2.0->createtoolagi==0.2.3) (3.4)\n",
      "Requirement already satisfied: h2<5,>=3 in /opt/conda/lib/python3.10/site-packages (from httpx[http2]>=0.14.0->qdrant-client==1.2.0->createtoolagi==0.2.3) (4.1.0)\n",
      "Requirement already satisfied: greenlet!=0.4.17 in /opt/conda/lib/python3.10/site-packages (from SQLAlchemy<3,>=1.4->langchain==0.0.167->createtoolagi==0.2.3) (2.0.2)\n",
      "Requirement already satisfied: hpack<5,>=4.0 in /opt/conda/lib/python3.10/site-packages (from h2<5,>=3->httpx[http2]>=0.14.0->qdrant-client==1.2.0->createtoolagi==0.2.3) (4.0.0)\n",
      "Requirement already satisfied: hyperframe<7,>=6.0 in /opt/conda/lib/python3.10/site-packages (from h2<5,>=3->httpx[http2]>=0.14.0->qdrant-client==1.2.0->createtoolagi==0.2.3) (6.0.1)\n",
      "Requirement already satisfied: h11<0.15,>=0.13 in /opt/conda/lib/python3.10/site-packages (from httpcore<0.18.0,>=0.15.0->httpx[http2]>=0.14.0->qdrant-client==1.2.0->createtoolagi==0.2.3) (0.14.0)\n",
      "Requirement already satisfied: anyio<5.0,>=3.0 in /opt/conda/lib/python3.10/site-packages (from httpcore<0.18.0,>=0.15.0->httpx[http2]>=0.14.0->qdrant-client==1.2.0->createtoolagi==0.2.3) (3.6.2)\n",
      "Requirement already satisfied: packaging>=17.0 in /opt/conda/lib/python3.10/site-packages (from marshmallow<4.0.0,>=3.3.0->dataclasses-json<0.6.0,>=0.5.7->langchain==0.0.167->createtoolagi==0.2.3) (23.0)\n",
      "Requirement already satisfied: mypy-extensions>=0.3.0 in /opt/conda/lib/python3.10/site-packages (from typing-inspect>=0.4.0->dataclasses-json<0.6.0,>=0.5.7->langchain==0.0.167->createtoolagi==0.2.3) (1.0.0)\n",
      "Building wheels for collected packages: createtoolagi\n",
      "  Building wheel for createtoolagi (setup.py) ... \u001b[?25ldone\n",
      "\u001b[?25h  Created wheel for createtoolagi: filename=createtoolagi-0.2.3-py3-none-any.whl size=9307 sha256=0d4fadcf2148d18ae30d3bef4e9f816cc50f0d9c199debebcb4756c951e6b10b\n",
      "  Stored in directory: /tmp/pip-ephem-wheel-cache-d1kj3lma/wheels/7c/ba/46/b1c3a7d693e2bf0b074d226b40ad5cc8f9d360978e0e7fe5d3\n",
      "Successfully built createtoolagi\n",
      "Installing collected packages: createtoolagi\n",
      "  Attempting uninstall: createtoolagi\n",
      "    Found existing installation: createtoolagi 0.2.2\n",
      "    Uninstalling createtoolagi-0.2.2:\n",
      "      Successfully uninstalled createtoolagi-0.2.2\n",
      "Successfully installed createtoolagi-0.2.3\n"
     ]
    }
   ],
   "source": [
    "!pip install git+https://github.com/fuyu-quant/CreateTool-AGI.git"
   ]
  },
  {
   "cell_type": "code",
   "execution_count": 4,
   "metadata": {},
   "outputs": [],
   "source": [
    "%load_ext autoreload\n",
    "%aimport createtoolagi"
   ]
  },
  {
   "cell_type": "code",
   "execution_count": 2,
   "metadata": {},
   "outputs": [],
   "source": [
    "!rm -r ./tools"
   ]
  },
  {
   "cell_type": "code",
   "execution_count": 3,
   "metadata": {},
   "outputs": [],
   "source": [
    "from createtoolagi import CTAGI\n",
    "\n",
    "base_model_name = 'gpt-4'\n",
    "create_model_name = 'gpt-4'\n",
    "embegging_model_name = 'text-embedding-ada-002'\n",
    "\n",
    "ctagi = CTAGI(\n",
    "    base_model_name=base_model_name, \n",
    "    create_model_name=create_model_name, \n",
    "    embegging_model_name=embegging_model_name\n",
    "    )"
   ]
  },
  {
   "cell_type": "code",
   "execution_count": 4,
   "metadata": {},
   "outputs": [
    {
     "name": "stdout",
     "output_type": "stream",
     "text": [
      "> Generalize the input task.\n",
      "\u001b[32mGeneralized Task：What is the sum of the prime numbers from A to B?\n",
      "\u001b[0m\n",
      "> Search tools.\n",
      "\u001b[32mSearch results：\n",
      "[]\n",
      "\u001b[0m\n",
      "> Decide if the task is executable.\n",
      "\u001b[32mI must create the tool before executing.\n",
      "\u001b[0m\n",
      "Try:1\n",
      "> Create a tool.\n",
      "\u001b[32mCompleted!\n",
      "Created tool name：PrimeSumTool\n",
      "\u001b[0m\n",
      "> Execute the task with the tool you created.\n",
      "\n",
      "\n",
      "\u001b[1m> Entering new AgentExecutor chain...\u001b[0m\n",
      "\u001b[32mError occurred: Could not parse LLM output: `I need to know the values of A and B to answer this question.`\n",
      "\u001b[0m\n",
      "Try:2\n",
      "> Create a tool.\n"
     ]
    },
    {
     "name": "stderr",
     "output_type": "stream",
     "text": [
      "Traceback (most recent call last):\n",
      "  File \"/opt/conda/lib/python3.10/site-packages/createtoolagi/ctagi.py\", line 66, in run\n",
      "    self.executor.run_with_create_tool(input, tool_code = tool_code)\n",
      "  File \"/opt/conda/lib/python3.10/site-packages/createtoolagi/executor.py\", line 59, in run_with_create_tool\n",
      "    agent.run(input)\n",
      "  File \"/opt/conda/lib/python3.10/site-packages/langchain/chains/base.py\", line 236, in run\n",
      "    return self(args[0], callbacks=callbacks)[self.output_keys[0]]\n",
      "  File \"/opt/conda/lib/python3.10/site-packages/langchain/chains/base.py\", line 140, in __call__\n",
      "    raise e\n",
      "  File \"/opt/conda/lib/python3.10/site-packages/langchain/chains/base.py\", line 134, in __call__\n",
      "    self._call(inputs, run_manager=run_manager)\n",
      "  File \"/opt/conda/lib/python3.10/site-packages/langchain/agents/agent.py\", line 905, in _call\n",
      "    next_step_output = self._take_next_step(\n",
      "  File \"/opt/conda/lib/python3.10/site-packages/langchain/agents/agent.py\", line 749, in _take_next_step\n",
      "    raise e\n",
      "  File \"/opt/conda/lib/python3.10/site-packages/langchain/agents/agent.py\", line 742, in _take_next_step\n",
      "    output = self.agent.plan(\n",
      "  File \"/opt/conda/lib/python3.10/site-packages/langchain/agents/agent.py\", line 426, in plan\n",
      "    return self.output_parser.parse(full_output)\n",
      "  File \"/opt/conda/lib/python3.10/site-packages/langchain/agents/mrkl/output_parser.py\", line 26, in parse\n",
      "    raise OutputParserException(f\"Could not parse LLM output: `{text}`\")\n",
      "langchain.schema.OutputParserException: Could not parse LLM output: `I need to know the values of A and B to answer this question.`\n"
     ]
    },
    {
     "name": "stdout",
     "output_type": "stream",
     "text": [
      "\u001b[32mCompleted!\n",
      "Created tool name：PrimeSumTool\n",
      "\u001b[0m\n",
      "> Execute the task with the tool you created.\n",
      "\n",
      "\n",
      "\u001b[1m> Entering new AgentExecutor chain...\u001b[0m\n",
      "\u001b[32mError occurred: Could not parse LLM output: `I need to know the values of A and B to answer this question.`\n",
      "\u001b[0m\n",
      "Try:3\n",
      "> Create a tool.\n"
     ]
    },
    {
     "name": "stderr",
     "output_type": "stream",
     "text": [
      "Traceback (most recent call last):\n",
      "  File \"/opt/conda/lib/python3.10/site-packages/createtoolagi/ctagi.py\", line 66, in run\n",
      "    self.executor.run_with_create_tool(input, tool_code = tool_code)\n",
      "  File \"/opt/conda/lib/python3.10/site-packages/createtoolagi/executor.py\", line 59, in run_with_create_tool\n",
      "    agent.run(input)\n",
      "  File \"/opt/conda/lib/python3.10/site-packages/langchain/chains/base.py\", line 236, in run\n",
      "    return self(args[0], callbacks=callbacks)[self.output_keys[0]]\n",
      "  File \"/opt/conda/lib/python3.10/site-packages/langchain/chains/base.py\", line 140, in __call__\n",
      "    raise e\n",
      "  File \"/opt/conda/lib/python3.10/site-packages/langchain/chains/base.py\", line 134, in __call__\n",
      "    self._call(inputs, run_manager=run_manager)\n",
      "  File \"/opt/conda/lib/python3.10/site-packages/langchain/agents/agent.py\", line 905, in _call\n",
      "    next_step_output = self._take_next_step(\n",
      "  File \"/opt/conda/lib/python3.10/site-packages/langchain/agents/agent.py\", line 749, in _take_next_step\n",
      "    raise e\n",
      "  File \"/opt/conda/lib/python3.10/site-packages/langchain/agents/agent.py\", line 742, in _take_next_step\n",
      "    output = self.agent.plan(\n",
      "  File \"/opt/conda/lib/python3.10/site-packages/langchain/agents/agent.py\", line 426, in plan\n",
      "    return self.output_parser.parse(full_output)\n",
      "  File \"/opt/conda/lib/python3.10/site-packages/langchain/agents/mrkl/output_parser.py\", line 26, in parse\n",
      "    raise OutputParserException(f\"Could not parse LLM output: `{text}`\")\n",
      "langchain.schema.OutputParserException: Could not parse LLM output: `I need to know the values of A and B to answer this question.`\n"
     ]
    },
    {
     "name": "stdout",
     "output_type": "stream",
     "text": [
      "\u001b[32mCompleted!\n",
      "Created tool name：PrimeSumTool\n",
      "\u001b[0m\n",
      "> Execute the task with the tool you created.\n",
      "\n",
      "\n",
      "\u001b[1m> Entering new AgentExecutor chain...\u001b[0m\n",
      "\u001b[32mError occurred: Could not parse LLM output: `I need to know the values of A and B to answer this question.`\n",
      "\u001b[0m\n",
      "Try:4\n",
      "> Create a tool.\n"
     ]
    },
    {
     "name": "stderr",
     "output_type": "stream",
     "text": [
      "Traceback (most recent call last):\n",
      "  File \"/opt/conda/lib/python3.10/site-packages/createtoolagi/ctagi.py\", line 66, in run\n",
      "    self.executor.run_with_create_tool(input, tool_code = tool_code)\n",
      "  File \"/opt/conda/lib/python3.10/site-packages/createtoolagi/executor.py\", line 59, in run_with_create_tool\n",
      "    agent.run(input)\n",
      "  File \"/opt/conda/lib/python3.10/site-packages/langchain/chains/base.py\", line 236, in run\n",
      "    return self(args[0], callbacks=callbacks)[self.output_keys[0]]\n",
      "  File \"/opt/conda/lib/python3.10/site-packages/langchain/chains/base.py\", line 140, in __call__\n",
      "    raise e\n",
      "  File \"/opt/conda/lib/python3.10/site-packages/langchain/chains/base.py\", line 134, in __call__\n",
      "    self._call(inputs, run_manager=run_manager)\n",
      "  File \"/opt/conda/lib/python3.10/site-packages/langchain/agents/agent.py\", line 905, in _call\n",
      "    next_step_output = self._take_next_step(\n",
      "  File \"/opt/conda/lib/python3.10/site-packages/langchain/agents/agent.py\", line 749, in _take_next_step\n",
      "    raise e\n",
      "  File \"/opt/conda/lib/python3.10/site-packages/langchain/agents/agent.py\", line 742, in _take_next_step\n",
      "    output = self.agent.plan(\n",
      "  File \"/opt/conda/lib/python3.10/site-packages/langchain/agents/agent.py\", line 426, in plan\n",
      "    return self.output_parser.parse(full_output)\n",
      "  File \"/opt/conda/lib/python3.10/site-packages/langchain/agents/mrkl/output_parser.py\", line 26, in parse\n",
      "    raise OutputParserException(f\"Could not parse LLM output: `{text}`\")\n",
      "langchain.schema.OutputParserException: Could not parse LLM output: `I need to know the values of A and B to answer this question.`\n"
     ]
    },
    {
     "name": "stdout",
     "output_type": "stream",
     "text": [
      "\u001b[32mCompleted!\n",
      "Created tool name：PrimeSumTool\n",
      "\u001b[0m\n",
      "> Execute the task with the tool you created.\n",
      "\n",
      "\n",
      "\u001b[1m> Entering new AgentExecutor chain...\u001b[0m\n",
      "\u001b[32mError occurred: Could not parse LLM output: `I need to know the values of A and B to answer this question.`\n",
      "\u001b[0m\n",
      "Try:5\n",
      "> Create a tool.\n"
     ]
    },
    {
     "name": "stderr",
     "output_type": "stream",
     "text": [
      "Traceback (most recent call last):\n",
      "  File \"/opt/conda/lib/python3.10/site-packages/createtoolagi/ctagi.py\", line 66, in run\n",
      "    self.executor.run_with_create_tool(input, tool_code = tool_code)\n",
      "  File \"/opt/conda/lib/python3.10/site-packages/createtoolagi/executor.py\", line 59, in run_with_create_tool\n",
      "    agent.run(input)\n",
      "  File \"/opt/conda/lib/python3.10/site-packages/langchain/chains/base.py\", line 236, in run\n",
      "    return self(args[0], callbacks=callbacks)[self.output_keys[0]]\n",
      "  File \"/opt/conda/lib/python3.10/site-packages/langchain/chains/base.py\", line 140, in __call__\n",
      "    raise e\n",
      "  File \"/opt/conda/lib/python3.10/site-packages/langchain/chains/base.py\", line 134, in __call__\n",
      "    self._call(inputs, run_manager=run_manager)\n",
      "  File \"/opt/conda/lib/python3.10/site-packages/langchain/agents/agent.py\", line 905, in _call\n",
      "    next_step_output = self._take_next_step(\n",
      "  File \"/opt/conda/lib/python3.10/site-packages/langchain/agents/agent.py\", line 749, in _take_next_step\n",
      "    raise e\n",
      "  File \"/opt/conda/lib/python3.10/site-packages/langchain/agents/agent.py\", line 742, in _take_next_step\n",
      "    output = self.agent.plan(\n",
      "  File \"/opt/conda/lib/python3.10/site-packages/langchain/agents/agent.py\", line 426, in plan\n",
      "    return self.output_parser.parse(full_output)\n",
      "  File \"/opt/conda/lib/python3.10/site-packages/langchain/agents/mrkl/output_parser.py\", line 26, in parse\n",
      "    raise OutputParserException(f\"Could not parse LLM output: `{text}`\")\n",
      "langchain.schema.OutputParserException: Could not parse LLM output: `I need to know the values of A and B to answer this question.`\n"
     ]
    },
    {
     "name": "stdout",
     "output_type": "stream",
     "text": [
      "\u001b[32mCompleted!\n",
      "Created tool name：PrimeSumTool\n",
      "\u001b[0m\n",
      "> Execute the task with the tool you created.\n",
      "\n",
      "\n",
      "\u001b[1m> Entering new AgentExecutor chain...\u001b[0m\n",
      "\u001b[32mError occurred: Could not parse LLM output: `I need to know the values of A and B to answer this question.`\n",
      "\u001b[0m\n",
      "\u001b[32mReached the maximum number of tries.\u001b[0m\n"
     ]
    },
    {
     "name": "stderr",
     "output_type": "stream",
     "text": [
      "Traceback (most recent call last):\n",
      "  File \"/opt/conda/lib/python3.10/site-packages/createtoolagi/ctagi.py\", line 66, in run\n",
      "    self.executor.run_with_create_tool(input, tool_code = tool_code)\n",
      "  File \"/opt/conda/lib/python3.10/site-packages/createtoolagi/executor.py\", line 59, in run_with_create_tool\n",
      "    agent.run(input)\n",
      "  File \"/opt/conda/lib/python3.10/site-packages/langchain/chains/base.py\", line 236, in run\n",
      "    return self(args[0], callbacks=callbacks)[self.output_keys[0]]\n",
      "  File \"/opt/conda/lib/python3.10/site-packages/langchain/chains/base.py\", line 140, in __call__\n",
      "    raise e\n",
      "  File \"/opt/conda/lib/python3.10/site-packages/langchain/chains/base.py\", line 134, in __call__\n",
      "    self._call(inputs, run_manager=run_manager)\n",
      "  File \"/opt/conda/lib/python3.10/site-packages/langchain/agents/agent.py\", line 905, in _call\n",
      "    next_step_output = self._take_next_step(\n",
      "  File \"/opt/conda/lib/python3.10/site-packages/langchain/agents/agent.py\", line 749, in _take_next_step\n",
      "    raise e\n",
      "  File \"/opt/conda/lib/python3.10/site-packages/langchain/agents/agent.py\", line 742, in _take_next_step\n",
      "    output = self.agent.plan(\n",
      "  File \"/opt/conda/lib/python3.10/site-packages/langchain/agents/agent.py\", line 426, in plan\n",
      "    return self.output_parser.parse(full_output)\n",
      "  File \"/opt/conda/lib/python3.10/site-packages/langchain/agents/mrkl/output_parser.py\", line 26, in parse\n",
      "    raise OutputParserException(f\"Could not parse LLM output: `{text}`\")\n",
      "langchain.schema.OutputParserException: Could not parse LLM output: `I need to know the values of A and B to answer this question.`\n"
     ]
    }
   ],
   "source": [
    "input = 'What is the sum of the prime numbers from 1 to 100000?'\n",
    "\n",
    "ctagi.run(input=input)"
   ]
  },
  {
   "cell_type": "code",
   "execution_count": null,
   "metadata": {},
   "outputs": [],
   "source": []
  }
 ],
 "metadata": {
  "kernelspec": {
   "display_name": "Python 3.10.9 ('base')",
   "language": "python",
   "name": "python3"
  },
  "language_info": {
   "codemirror_mode": {
    "name": "ipython",
    "version": 3
   },
   "file_extension": ".py",
   "mimetype": "text/x-python",
   "name": "python",
   "nbconvert_exporter": "python",
   "pygments_lexer": "ipython3",
   "version": "3.10.9"
  },
  "orig_nbformat": 4,
  "vscode": {
   "interpreter": {
    "hash": "d4d1e4263499bec80672ea0156c357c1ee493ec2b1c70f0acce89fc37c4a6abe"
   }
  }
 },
 "nbformat": 4,
 "nbformat_minor": 2
}
