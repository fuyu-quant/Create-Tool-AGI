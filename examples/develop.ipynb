{
 "cells": [
  {
   "cell_type": "markdown",
   "metadata": {},
   "source": [
    "# Package Development"
   ]
  },
  {
   "cell_type": "code",
   "execution_count": 1,
   "metadata": {},
   "outputs": [
    {
     "name": "stdout",
     "output_type": "stream",
     "text": [
      "Collecting git+https://github.com/fuyu-quant/CreateTool-AGI.git\n",
      "  Cloning https://github.com/fuyu-quant/CreateTool-AGI.git to /tmp/pip-req-build-t9pztmf9\n",
      "  Running command git clone --filter=blob:none --quiet https://github.com/fuyu-quant/CreateTool-AGI.git /tmp/pip-req-build-t9pztmf9\n",
      "  Resolved https://github.com/fuyu-quant/CreateTool-AGI.git to commit bdc3577c57c89d5f6d6ae1c004011fc21d74cb83\n",
      "  Preparing metadata (setup.py) ... \u001b[?25ldone\n",
      "\u001b[?25hRequirement already satisfied: langchain==0.0.167 in /opt/conda/lib/python3.10/site-packages (from createtoolagi==0.2.6) (0.0.167)\n",
      "Requirement already satisfied: openai==0.27.4 in /opt/conda/lib/python3.10/site-packages (from createtoolagi==0.2.6) (0.27.4)\n",
      "Requirement already satisfied: tiktoken==0.4.0 in /opt/conda/lib/python3.10/site-packages (from createtoolagi==0.2.6) (0.4.0)\n",
      "Requirement already satisfied: qdrant-client==1.2.0 in /opt/conda/lib/python3.10/site-packages (from createtoolagi==0.2.6) (1.2.0)\n",
      "Requirement already satisfied: requests<3,>=2 in /opt/conda/lib/python3.10/site-packages (from langchain==0.0.167->createtoolagi==0.2.6) (2.28.2)\n",
      "Requirement already satisfied: aiohttp<4.0.0,>=3.8.3 in /opt/conda/lib/python3.10/site-packages (from langchain==0.0.167->createtoolagi==0.2.6) (3.8.4)\n",
      "Requirement already satisfied: numexpr<3.0.0,>=2.8.4 in /opt/conda/lib/python3.10/site-packages (from langchain==0.0.167->createtoolagi==0.2.6) (2.8.4)\n",
      "Requirement already satisfied: dataclasses-json<0.6.0,>=0.5.7 in /opt/conda/lib/python3.10/site-packages (from langchain==0.0.167->createtoolagi==0.2.6) (0.5.7)\n",
      "Requirement already satisfied: tenacity<9.0.0,>=8.1.0 in /opt/conda/lib/python3.10/site-packages (from langchain==0.0.167->createtoolagi==0.2.6) (8.2.2)\n",
      "Requirement already satisfied: numpy<2,>=1 in /opt/conda/lib/python3.10/site-packages (from langchain==0.0.167->createtoolagi==0.2.6) (1.23.5)\n",
      "Requirement already satisfied: openapi-schema-pydantic<2.0,>=1.2 in /opt/conda/lib/python3.10/site-packages (from langchain==0.0.167->createtoolagi==0.2.6) (1.2.4)\n",
      "Requirement already satisfied: SQLAlchemy<3,>=1.4 in /opt/conda/lib/python3.10/site-packages (from langchain==0.0.167->createtoolagi==0.2.6) (2.0.5.post1)\n",
      "Requirement already satisfied: PyYAML>=5.4.1 in /opt/conda/lib/python3.10/site-packages (from langchain==0.0.167->createtoolagi==0.2.6) (6.0)\n",
      "Requirement already satisfied: async-timeout<5.0.0,>=4.0.0 in /opt/conda/lib/python3.10/site-packages (from langchain==0.0.167->createtoolagi==0.2.6) (4.0.2)\n",
      "Requirement already satisfied: pydantic<2,>=1 in /opt/conda/lib/python3.10/site-packages (from langchain==0.0.167->createtoolagi==0.2.6) (1.10.8)\n",
      "Requirement already satisfied: tqdm>=4.48.0 in /opt/conda/lib/python3.10/site-packages (from langchain==0.0.167->createtoolagi==0.2.6) (4.65.0)\n",
      "Requirement already satisfied: typing-extensions<4.6.0,>=4.0.0 in /opt/conda/lib/python3.10/site-packages (from qdrant-client==1.2.0->createtoolagi==0.2.6) (4.5.0)\n",
      "Requirement already satisfied: httpx[http2]>=0.14.0 in /opt/conda/lib/python3.10/site-packages (from qdrant-client==1.2.0->createtoolagi==0.2.6) (0.24.1)\n",
      "Requirement already satisfied: portalocker<3.0.0,>=2.7.0 in /opt/conda/lib/python3.10/site-packages (from qdrant-client==1.2.0->createtoolagi==0.2.6) (2.7.0)\n",
      "Requirement already satisfied: grpcio-tools>=1.41.0 in /opt/conda/lib/python3.10/site-packages (from qdrant-client==1.2.0->createtoolagi==0.2.6) (1.54.2)\n",
      "Requirement already satisfied: urllib3<2.0.0,>=1.26.14 in /opt/conda/lib/python3.10/site-packages (from qdrant-client==1.2.0->createtoolagi==0.2.6) (1.26.15)\n",
      "Requirement already satisfied: grpcio>=1.41.0 in /opt/conda/lib/python3.10/site-packages (from qdrant-client==1.2.0->createtoolagi==0.2.6) (1.54.2)\n",
      "Requirement already satisfied: regex>=2022.1.18 in /opt/conda/lib/python3.10/site-packages (from tiktoken==0.4.0->createtoolagi==0.2.6) (2023.5.5)\n",
      "Requirement already satisfied: multidict<7.0,>=4.5 in /opt/conda/lib/python3.10/site-packages (from aiohttp<4.0.0,>=3.8.3->langchain==0.0.167->createtoolagi==0.2.6) (6.0.4)\n",
      "Requirement already satisfied: aiosignal>=1.1.2 in /opt/conda/lib/python3.10/site-packages (from aiohttp<4.0.0,>=3.8.3->langchain==0.0.167->createtoolagi==0.2.6) (1.3.1)\n",
      "Requirement already satisfied: yarl<2.0,>=1.0 in /opt/conda/lib/python3.10/site-packages (from aiohttp<4.0.0,>=3.8.3->langchain==0.0.167->createtoolagi==0.2.6) (1.9.2)\n",
      "Requirement already satisfied: attrs>=17.3.0 in /opt/conda/lib/python3.10/site-packages (from aiohttp<4.0.0,>=3.8.3->langchain==0.0.167->createtoolagi==0.2.6) (22.2.0)\n",
      "Requirement already satisfied: frozenlist>=1.1.1 in /opt/conda/lib/python3.10/site-packages (from aiohttp<4.0.0,>=3.8.3->langchain==0.0.167->createtoolagi==0.2.6) (1.3.3)\n",
      "Requirement already satisfied: charset-normalizer<4.0,>=2.0 in /opt/conda/lib/python3.10/site-packages (from aiohttp<4.0.0,>=3.8.3->langchain==0.0.167->createtoolagi==0.2.6) (2.1.1)\n",
      "Requirement already satisfied: marshmallow<4.0.0,>=3.3.0 in /opt/conda/lib/python3.10/site-packages (from dataclasses-json<0.6.0,>=0.5.7->langchain==0.0.167->createtoolagi==0.2.6) (3.19.0)\n",
      "Requirement already satisfied: typing-inspect>=0.4.0 in /opt/conda/lib/python3.10/site-packages (from dataclasses-json<0.6.0,>=0.5.7->langchain==0.0.167->createtoolagi==0.2.6) (0.9.0)\n",
      "Requirement already satisfied: marshmallow-enum<2.0.0,>=1.5.1 in /opt/conda/lib/python3.10/site-packages (from dataclasses-json<0.6.0,>=0.5.7->langchain==0.0.167->createtoolagi==0.2.6) (1.5.1)\n",
      "Requirement already satisfied: protobuf<5.0dev,>=4.21.6 in /opt/conda/lib/python3.10/site-packages (from grpcio-tools>=1.41.0->qdrant-client==1.2.0->createtoolagi==0.2.6) (4.21.12)\n",
      "Requirement already satisfied: setuptools in /opt/conda/lib/python3.10/site-packages (from grpcio-tools>=1.41.0->qdrant-client==1.2.0->createtoolagi==0.2.6) (67.6.0)\n",
      "Requirement already satisfied: httpcore<0.18.0,>=0.15.0 in /opt/conda/lib/python3.10/site-packages (from httpx[http2]>=0.14.0->qdrant-client==1.2.0->createtoolagi==0.2.6) (0.17.2)\n",
      "Requirement already satisfied: idna in /opt/conda/lib/python3.10/site-packages (from httpx[http2]>=0.14.0->qdrant-client==1.2.0->createtoolagi==0.2.6) (3.4)\n",
      "Requirement already satisfied: sniffio in /opt/conda/lib/python3.10/site-packages (from httpx[http2]>=0.14.0->qdrant-client==1.2.0->createtoolagi==0.2.6) (1.3.0)\n",
      "Requirement already satisfied: certifi in /opt/conda/lib/python3.10/site-packages (from httpx[http2]>=0.14.0->qdrant-client==1.2.0->createtoolagi==0.2.6) (2022.12.7)\n",
      "Requirement already satisfied: h2<5,>=3 in /opt/conda/lib/python3.10/site-packages (from httpx[http2]>=0.14.0->qdrant-client==1.2.0->createtoolagi==0.2.6) (4.1.0)\n",
      "Requirement already satisfied: greenlet!=0.4.17 in /opt/conda/lib/python3.10/site-packages (from SQLAlchemy<3,>=1.4->langchain==0.0.167->createtoolagi==0.2.6) (2.0.2)\n",
      "Requirement already satisfied: hpack<5,>=4.0 in /opt/conda/lib/python3.10/site-packages (from h2<5,>=3->httpx[http2]>=0.14.0->qdrant-client==1.2.0->createtoolagi==0.2.6) (4.0.0)\n",
      "Requirement already satisfied: hyperframe<7,>=6.0 in /opt/conda/lib/python3.10/site-packages (from h2<5,>=3->httpx[http2]>=0.14.0->qdrant-client==1.2.0->createtoolagi==0.2.6) (6.0.1)\n",
      "Requirement already satisfied: h11<0.15,>=0.13 in /opt/conda/lib/python3.10/site-packages (from httpcore<0.18.0,>=0.15.0->httpx[http2]>=0.14.0->qdrant-client==1.2.0->createtoolagi==0.2.6) (0.14.0)\n",
      "Requirement already satisfied: anyio<5.0,>=3.0 in /opt/conda/lib/python3.10/site-packages (from httpcore<0.18.0,>=0.15.0->httpx[http2]>=0.14.0->qdrant-client==1.2.0->createtoolagi==0.2.6) (3.6.2)\n",
      "Requirement already satisfied: packaging>=17.0 in /opt/conda/lib/python3.10/site-packages (from marshmallow<4.0.0,>=3.3.0->dataclasses-json<0.6.0,>=0.5.7->langchain==0.0.167->createtoolagi==0.2.6) (23.0)\n",
      "Requirement already satisfied: mypy-extensions>=0.3.0 in /opt/conda/lib/python3.10/site-packages (from typing-inspect>=0.4.0->dataclasses-json<0.6.0,>=0.5.7->langchain==0.0.167->createtoolagi==0.2.6) (1.0.0)\n",
      "Building wheels for collected packages: createtoolagi\n",
      "  Building wheel for createtoolagi (setup.py) ... \u001b[?25ldone\n",
      "\u001b[?25h  Created wheel for createtoolagi: filename=createtoolagi-0.2.6-py3-none-any.whl size=9344 sha256=11f46a72a68960ee34ec4f8410582f526880cb15f61ec0d2091c151b193b3d58\n",
      "  Stored in directory: /tmp/pip-ephem-wheel-cache-l49_xhk2/wheels/7c/ba/46/b1c3a7d693e2bf0b074d226b40ad5cc8f9d360978e0e7fe5d3\n",
      "Successfully built createtoolagi\n",
      "Installing collected packages: createtoolagi\n",
      "  Attempting uninstall: createtoolagi\n",
      "    Found existing installation: createtoolagi 0.2.5\n",
      "    Uninstalling createtoolagi-0.2.5:\n",
      "      Successfully uninstalled createtoolagi-0.2.5\n",
      "Successfully installed createtoolagi-0.2.6\n"
     ]
    }
   ],
   "source": [
    "!pip install git+https://github.com/fuyu-quant/CreateTool-AGI.git"
   ]
  },
  {
   "cell_type": "code",
   "execution_count": 4,
   "metadata": {},
   "outputs": [],
   "source": [
    "%load_ext autoreload\n",
    "%aimport createtoolagi"
   ]
  },
  {
   "cell_type": "code",
   "execution_count": 11,
   "metadata": {},
   "outputs": [],
   "source": [
    "!rm -r ./tools"
   ]
  },
  {
   "cell_type": "code",
   "execution_count": 12,
   "metadata": {},
   "outputs": [],
   "source": [
    "from createtoolagi import CTAGI\n",
    "\n",
    "base_model_name = 'gpt-4'\n",
    "#base_model_name = 'gpt-3.5-turbo'\n",
    "create_model_name = 'gpt-4'\n",
    "embegging_model_name = 'text-embedding-ada-002'\n",
    "\n",
    "ctagi = CTAGI(\n",
    "    base_model_name=base_model_name, \n",
    "    create_model_name=create_model_name, \n",
    "    embegging_model_name=embegging_model_name\n",
    "    )"
   ]
  },
  {
   "cell_type": "code",
   "execution_count": 13,
   "metadata": {},
   "outputs": [
    {
     "name": "stdout",
     "output_type": "stream",
     "text": [
      "> Generalize the input task.\n",
      "\u001b[32mGeneralized Task：What is the sum of the prime numbers from A to B?\n",
      "\u001b[0m\n",
      "> Search tools.\n",
      "\u001b[32mSearch results：\n",
      "[]\n",
      "\u001b[0m\n",
      "> Decide if the task is executable.\n",
      "\u001b[32mI must create the tool before executing.\n",
      "\u001b[0m\n",
      "Try:1\n",
      "> Create a tool.\n",
      "\u001b[32mCompleted!\n",
      "Created tool name：PrimeSumTool\n",
      "\u001b[0m\n",
      "> Execute the task with the tool you created.\n",
      "\n",
      "\n",
      "\u001b[1m> Entering new AgentExecutor chain...\u001b[0m\n",
      "\u001b[32;1m\u001b[1;3mI need to use the PrimeSumTool to find the sum of prime numbers between 1 and 100000.\n",
      "Action: PrimeSumTool\n",
      "Action Input: 1,100000\u001b[0m\n",
      "Observation: \u001b[36;1m\u001b[1;3m454396537\u001b[0m\n",
      "Thought:\u001b[32;1m\u001b[1;3mI now know the final answer.\n",
      "Final Answer: 454396537\u001b[0m\n",
      "\n",
      "\u001b[1m> Finished chain.\u001b[0m\n",
      "> Save a tool.\n"
     ]
    }
   ],
   "source": [
    "input = 'What is the sum of the prime numbers from 1 to 100000?'\n",
    "\n",
    "ctagi.run(input=input)"
   ]
  },
  {
   "cell_type": "code",
   "execution_count": 14,
   "metadata": {},
   "outputs": [
    {
     "name": "stdout",
     "output_type": "stream",
     "text": [
      "> Generalize the input task.\n",
      "\u001b[32mGeneralized Task：What is the sum of the prime numbers from A to B?\n",
      "\u001b[0m\n",
      "> Search tools.\n",
      "\u001b[32mSearch results：\n",
      "[ScoredPoint(id=1, version=0, score=0.8855775377441537, payload={'description': \"used for calculating the sum of prime numbers from A to B. The input is two numbers separated by a comma. For example, if you want to find the sum of prime numbers between 1 and 10, the input is '1,10'.\", 'code': 'from langchain.tools import BaseTool\\n\\nclass PrimeSumTool(BaseTool):\\n    name = \"PrimeSumTool\"\\n    description = \"used for calculating the sum of prime numbers from A to B. The input is two numbers separated by a comma. For example, if you want to find the sum of prime numbers between 1 and 10, the input is \\'1,10\\'.\"\\n\\n    def is_prime(self, num: int) -> bool:\\n        if num < 2:\\n            return False\\n        for i in range(2, num):\\n            if num % i == 0:\\n                return False\\n        return True\\n\\n    def _run(self, query: str) -> str:\\n        \"Use the tool.\"\\n        a, b = map(int, query.split(\",\"))\\n        prime_sum = sum(filter(self.is_prime, range(a, b + 1)))\\n        return prime_sum\\n\\n    async def _arun(self, query: str) -> str:\\n        \"Use the tool asynchronously.\"\\n        raise NotImplementedError(\"PrimeSumTool does not support async\")', 'tool_name': 'PrimeSumTool'}, vector=None)]\n",
      "\u001b[0m\n",
      "> Decide if the task is executable.\n"
     ]
    },
    {
     "ename": "KeyError",
     "evalue": "'discription'",
     "output_type": "error",
     "traceback": [
      "\u001b[0;31m---------------------------------------------------------------------------\u001b[0m",
      "\u001b[0;31mKeyError\u001b[0m                                  Traceback (most recent call last)",
      "Cell \u001b[0;32mIn[14], line 1\u001b[0m\n\u001b[0;32m----> 1\u001b[0m \u001b[43mctagi\u001b[49m\u001b[38;5;241;43m.\u001b[39;49m\u001b[43mrun\u001b[49m\u001b[43m(\u001b[49m\u001b[38;5;28;43minput\u001b[39;49m\u001b[38;5;241;43m=\u001b[39;49m\u001b[38;5;28;43minput\u001b[39;49m\u001b[43m)\u001b[49m\n",
      "File \u001b[0;32m/opt/conda/lib/python3.10/site-packages/createtoolagi/ctagi.py:51\u001b[0m, in \u001b[0;36mCTAGI.run\u001b[0;34m(self, input)\u001b[0m\n\u001b[1;32m     47\u001b[0m generalized_input \u001b[39m=\u001b[39m \u001b[39mself\u001b[39m\u001b[39m.\u001b[39mplanner\u001b[39m.\u001b[39mrun(\u001b[39minput\u001b[39m)\n\u001b[1;32m     49\u001b[0m search_result \u001b[39m=\u001b[39m \u001b[39mself\u001b[39m\u001b[39m.\u001b[39msearcher\u001b[39m.\u001b[39mrun(generalized_input)\n\u001b[0;32m---> 51\u001b[0m decision \u001b[39m=\u001b[39m \u001b[39mself\u001b[39;49m\u001b[39m.\u001b[39;49mdecider\u001b[39m.\u001b[39;49mrun(generalized_input, search_result \u001b[39m=\u001b[39;49m search_result)\n\u001b[1;32m     53\u001b[0m \u001b[39mif\u001b[39;00m decision \u001b[39m==\u001b[39m \u001b[39m\"\u001b[39m\u001b[39mYes.\u001b[39m\u001b[39m\"\u001b[39m:\n\u001b[1;32m     54\u001b[0m     \u001b[39mself\u001b[39m\u001b[39m.\u001b[39mexecutor\u001b[39m.\u001b[39mrun(\u001b[39minput\u001b[39m, search_result \u001b[39m=\u001b[39m search_result)\n",
      "File \u001b[0;32m/opt/conda/lib/python3.10/site-packages/createtoolagi/decider.py:17\u001b[0m, in \u001b[0;36mDecider.run\u001b[0;34m(self, generalized_input, search_result)\u001b[0m\n\u001b[1;32m     14\u001b[0m executable_tasks \u001b[39m=\u001b[39m \u001b[39m'\u001b[39m\u001b[39m'\u001b[39m\n\u001b[1;32m     16\u001b[0m \u001b[39mfor\u001b[39;00m i \u001b[39min\u001b[39;00m \u001b[39mrange\u001b[39m(\u001b[39mlen\u001b[39m(search_result)):\n\u001b[0;32m---> 17\u001b[0m     disc \u001b[39m=\u001b[39m search_result[i]\u001b[39m.\u001b[39;49mpayload[\u001b[39m'\u001b[39;49m\u001b[39mdiscription\u001b[39;49m\u001b[39m'\u001b[39;49m]\n\u001b[1;32m     18\u001b[0m     code \u001b[39m=\u001b[39m search_result[i]\u001b[39m.\u001b[39mpayload[\u001b[39m'\u001b[39m\u001b[39mcode\u001b[39m\u001b[39m'\u001b[39m]\n\u001b[1;32m     19\u001b[0m     executable_tasks \u001b[39m+\u001b[39m\u001b[39m=\u001b[39m \u001b[39m'\u001b[39m\u001b[39mdiscription:\u001b[39m\u001b[39m'\u001b[39m \u001b[39m+\u001b[39m \u001b[39m'\u001b[39m\u001b[39m\\n\u001b[39;00m\u001b[39m'\u001b[39m \u001b[39m+\u001b[39m disc \u001b[39m+\u001b[39m\u001b[39m'\u001b[39m\u001b[39m\\n\u001b[39;00m\u001b[39m'\u001b[39m \u001b[39m+\u001b[39m \u001b[39m'\u001b[39m\u001b[39mcode:\u001b[39m\u001b[39m'\u001b[39m \u001b[39m+\u001b[39m\u001b[39m'\u001b[39m\u001b[39m\\n\u001b[39;00m\u001b[39m'\u001b[39m \u001b[39m+\u001b[39m code \u001b[39m+\u001b[39m \u001b[39m'\u001b[39m\u001b[39m\\n\u001b[39;00m\u001b[39m'\u001b[39m \u001b[39m+\u001b[39m \u001b[39m'\u001b[39m\u001b[39m------------------\u001b[39m\u001b[39m'\u001b[39m \u001b[39m+\u001b[39m \u001b[39m'\u001b[39m\u001b[39m\\n\u001b[39;00m\u001b[39m'\u001b[39m\n",
      "\u001b[0;31mKeyError\u001b[0m: 'discription'"
     ]
    }
   ],
   "source": [
    "ctagi.run(input=input)"
   ]
  },
  {
   "cell_type": "code",
   "execution_count": null,
   "metadata": {},
   "outputs": [],
   "source": []
  }
 ],
 "metadata": {
  "kernelspec": {
   "display_name": "Python 3.10.9 ('base')",
   "language": "python",
   "name": "python3"
  },
  "language_info": {
   "codemirror_mode": {
    "name": "ipython",
    "version": 3
   },
   "file_extension": ".py",
   "mimetype": "text/x-python",
   "name": "python",
   "nbconvert_exporter": "python",
   "pygments_lexer": "ipython3",
   "version": "3.10.9"
  },
  "orig_nbformat": 4,
  "vscode": {
   "interpreter": {
    "hash": "d4d1e4263499bec80672ea0156c357c1ee493ec2b1c70f0acce89fc37c4a6abe"
   }
  }
 },
 "nbformat": 4,
 "nbformat_minor": 2
}
