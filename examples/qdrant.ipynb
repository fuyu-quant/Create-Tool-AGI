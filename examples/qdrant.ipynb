{
 "cells": [
  {
   "cell_type": "markdown",
   "metadata": {},
   "source": [
    "# 作成機能に追加するもの"
   ]
  },
  {
   "cell_type": "code",
   "execution_count": 2,
   "metadata": {},
   "outputs": [],
   "source": [
    "%%capture\n",
    "!pip install qdrant-client\n",
    "!pip install langchain\n",
    "!pip install openai\n",
    "!pip install tiktoken"
   ]
  },
  {
   "cell_type": "code",
   "execution_count": 10,
   "metadata": {},
   "outputs": [],
   "source": [
    "from langchain.embeddings.openai import OpenAIEmbeddings\n",
    "from qdrant_client import QdrantClient\n",
    "from qdrant_client import models\n",
    "import re"
   ]
  },
  {
   "cell_type": "markdown",
   "metadata": {},
   "source": [
    "## Qdrantの再作成"
   ]
  },
  {
   "cell_type": "code",
   "execution_count": 24,
   "metadata": {},
   "outputs": [
    {
     "data": {
      "text/plain": [
       "True"
      ]
     },
     "execution_count": 24,
     "metadata": {},
     "output_type": "execute_result"
    }
   ],
   "source": [
    "!rm -r ../tools\n",
    "path = '../tools'\n",
    "qdrant = QdrantClient(path=path)\n",
    "\n",
    "qdrant.create_collection(\n",
    "    collection_name = 'tool_store',\n",
    "    vectors_config=models.VectorParams(\n",
    "        size=1536, # Vector size is defined by used model\n",
    "        distance=models.Distance.COSINE\n",
    "        )\n",
    ")"
   ]
  },
  {
   "cell_type": "code",
   "execution_count": 14,
   "metadata": {},
   "outputs": [],
   "source": [
    "model = 'text-embedding-ada-002'\n",
    "embeddings = OpenAIEmbeddings(model = model)"
   ]
  },
  {
   "cell_type": "code",
   "execution_count": 43,
   "metadata": {},
   "outputs": [
    {
     "name": "stdout",
     "output_type": "stream",
     "text": [
      "2\n"
     ]
    },
    {
     "data": {
      "text/plain": [
       "CountResult(count=2)"
      ]
     },
     "execution_count": 43,
     "metadata": {},
     "output_type": "execute_result"
    }
   ],
   "source": [
    "# Get the current number of data and add 1\n",
    "count = qdrant.count(collection_name=\"tool_store\", exact=True)\n",
    "idx = int(f'{count}'.replace('count=', '')) + 1\n",
    "print(idx)\n",
    "\n",
    "\n",
    "discription = \"used for calculating the sum of prime numbers from A to B. The input is a single string with two numbers separated by a comma. For example, if you want to find the sum of prime numbers between 1 and 10, the input is '1,10'.\"\n",
    "\n",
    "code = \"\"\"\n",
    "from langchain.tools import BaseTool\n",
    "\n",
    "class PrimeSumTool(BaseTool):\n",
    "    name = \"PrimeSumTool\"\n",
    "    description = \"used for calculating the sum of prime numbers from A to B. The input is a single string with two numbers separated by a comma. For example, if you want to find the sum of prime numbers between 1 and 10, the input is '1,10'.\"\n",
    "\n",
    "    def is_prime(self, num: int) -> bool:\n",
    "        if num < 2:\n",
    "            return False\n",
    "        for i in range(2, num):\n",
    "            if num % i == 0:\n",
    "                return False\n",
    "        return True\n",
    "\n",
    "    def _run(self, query: str) -> str:\n",
    "        \"Use the tool.\"\n",
    "        a, b = query.split(\",\")\n",
    "        a, b = int(a), int(b)\n",
    "        prime_sum = sum([x for x in range(a, b + 1) if self.is_prime(x)])\n",
    "        return str(prime_sum)\n",
    "\n",
    "    async def _arun(self, query: str) -> str:\n",
    "        \"Use the tool asynchronously.\"\n",
    "        raise NotImplementedError(\"PrimeSumTool does not support async\")\n",
    "\"\"\"\n",
    "tool_name = re.search(r'name = \"(.*?)\"', code).group(1)\n",
    "description = re.search(r'description = \"(.*?)\"', code).group(1)\n",
    "\n",
    "payload = {'discription': discription, 'code': code, 'tool_name': tool_name}\n",
    "\n",
    "embedding = embeddings.embed_query(discription)\n",
    "\n",
    "# upload data\n",
    "qdrant.upload_records(\n",
    "    collection_name=\"tool_store\",\n",
    "    records=[models.Record(id=idx, vector=embedding, payload=payload)]\n",
    ")\n",
    "\n",
    "qdrant.count(collection_name=\"tool_store\", exact=True)"
   ]
  },
  {
   "cell_type": "code",
   "execution_count": 44,
   "metadata": {},
   "outputs": [
    {
     "name": "stdout",
     "output_type": "stream",
     "text": [
      "{'discription': \"used for calculating the sum of prime numbers from A to B. The input is a single string with two numbers separated by a comma. For example, if you want to find the sum of prime numbers between 1 and 10, the input is '1,10'.\", 'code': '\\nfrom langchain.tools import BaseTool\\n\\nclass PrimeSumTool(BaseTool):\\n    name = \"PrimeSumTool\"\\n    description = \"used for calculating the sum of prime numbers from A to B. The input is a single string with two numbers separated by a comma. For example, if you want to find the sum of prime numbers between 1 and 10, the input is \\'1,10\\'.\"\\n\\n    def is_prime(self, num: int) -> bool:\\n        if num < 2:\\n            return False\\n        for i in range(2, num):\\n            if num % i == 0:\\n                return False\\n        return True\\n\\n    def _run(self, query: str) -> str:\\n        \"Use the tool.\"\\n        a, b = query.split(\",\")\\n        a, b = int(a), int(b)\\n        prime_sum = sum([x for x in range(a, b + 1) if self.is_prime(x)])\\n        return str(prime_sum)\\n\\n    async def _arun(self, query: str) -> str:\\n        \"Use the tool asynchronously.\"\\n        raise NotImplementedError(\"PrimeSumTool does not support async\")\\n', 'tool_name': 'PrimeSumTool'}\n",
      "{'discription': \"used for calculating the sum of prime numbers from A to B. The input is a single string with two numbers separated by a comma. For example, if you want to find the sum of prime numbers between 1 and 10, the input is '1,10'.\", 'code': '\\nfrom langchain.tools import BaseTool\\n\\nclass PrimeSumTool(BaseTool):\\n    name = \"PrimeSumTool\"\\n    description = \"used for calculating the sum of prime numbers from A to B. The input is a single string with two numbers separated by a comma. For example, if you want to find the sum of prime numbers between 1 and 10, the input is \\'1,10\\'.\"\\n\\n    def is_prime(self, num: int) -> bool:\\n        if num < 2:\\n            return False\\n        for i in range(2, num):\\n            if num % i == 0:\\n                return False\\n        return True\\n\\n    def _run(self, query: str) -> str:\\n        \"Use the tool.\"\\n        a, b = query.split(\",\")\\n        a, b = int(a), int(b)\\n        prime_sum = sum([x for x in range(a, b + 1) if self.is_prime(x)])\\n        return str(prime_sum)\\n\\n    async def _arun(self, query: str) -> str:\\n        \"Use the tool asynchronously.\"\\n        raise NotImplementedError(\"PrimeSumTool does not support async\")\\n', 'tool_name': 'PrimeSumTool'}\n"
     ]
    }
   ],
   "source": [
    "query = \"used for calculating the sum of prime numbers from A to B\"\n",
    "\n",
    "search_result = qdrant.search(\n",
    "    collection_name=\"tool_store\",\n",
    "    query_vector = embeddings.embed_documents(query)[0],\n",
    "    limit=3\n",
    ")\n",
    "\n",
    "for hit in search_result:\n",
    "  print(hit.payload)"
   ]
  },
  {
   "cell_type": "code",
   "execution_count": 45,
   "metadata": {},
   "outputs": [
    {
     "name": "stdout",
     "output_type": "stream",
     "text": [
      "[PrimeSumTool(name='PrimeSumTool', description=\"used for calculating the sum of prime numbers from A to B. The input is a single string with two numbers separated by a comma. For example, if you want to find the sum of prime numbers between 1 and 10, the input is '1,10'.\", args_schema=None, return_direct=False, verbose=False, callbacks=None, callback_manager=None, handle_tool_error=False), PrimeSumTool(name='PrimeSumTool', description=\"used for calculating the sum of prime numbers from A to B. The input is a single string with two numbers separated by a comma. For example, if you want to find the sum of prime numbers between 1 and 10, the input is '1,10'.\", args_schema=None, return_direct=False, verbose=False, callbacks=None, callback_manager=None, handle_tool_error=False)]\n"
     ]
    }
   ],
   "source": [
    "tools = []\n",
    "\n",
    "for i in range(len(search_result)):\n",
    "    disc = search_result[i].payload['discription']\n",
    "    code = search_result[i].payload['code']\n",
    "    tool_name = search_result[i].payload['tool_name']\n",
    "\n",
    "    tool_code = code + '\\n' + f'{tool_name} = {tool_name}()'\n",
    "    exec(tool_code, globals())\n",
    "    exec(f'tools.append({tool_name})', globals())\n",
    "\n",
    "print(tools)\n",
    "    "
   ]
  },
  {
   "cell_type": "code",
   "execution_count": 46,
   "metadata": {},
   "outputs": [
    {
     "name": "stdout",
     "output_type": "stream",
     "text": [
      "\n",
      "\n",
      "\u001b[1m> Entering new AgentExecutor chain...\u001b[0m\n",
      "\u001b[32;1m\u001b[1;3mI need to use the PrimeSumTool to find the sum of prime numbers between 1 and 50.\n",
      "Action: PrimeSumTool\n",
      "Action Input: 1,50\u001b[0m\n",
      "Observation: \u001b[33;1m\u001b[1;3m328\u001b[0m\n",
      "Thought:\u001b[32;1m\u001b[1;3mI now know the final answer.\n",
      "Final Answer: 328\u001b[0m\n",
      "\n",
      "\u001b[1m> Finished chain.\u001b[0m\n"
     ]
    },
    {
     "data": {
      "text/plain": [
       "'328'"
      ]
     },
     "execution_count": 46,
     "metadata": {},
     "output_type": "execute_result"
    }
   ],
   "source": [
    "from langchain.llms import OpenAI\n",
    "from langchain.agents import initialize_agent\n",
    "\n",
    "model = OpenAI(temperature=0,model_name = 'gpt-4')\n",
    "input = 'Sum of prime numbers from 1 to 50'\n",
    "\n",
    "agent = initialize_agent(tools, model, agent=\"zero-shot-react-description\", verbose=True)\n",
    "\n",
    "agent.run(input)"
   ]
  },
  {
   "cell_type": "code",
   "execution_count": null,
   "metadata": {},
   "outputs": [],
   "source": []
  }
 ],
 "metadata": {
  "kernelspec": {
   "display_name": "Python 3.10.9 ('base')",
   "language": "python",
   "name": "python3"
  },
  "language_info": {
   "codemirror_mode": {
    "name": "ipython",
    "version": 3
   },
   "file_extension": ".py",
   "mimetype": "text/x-python",
   "name": "python",
   "nbconvert_exporter": "python",
   "pygments_lexer": "ipython3",
   "version": "3.10.9"
  },
  "orig_nbformat": 4,
  "vscode": {
   "interpreter": {
    "hash": "d4d1e4263499bec80672ea0156c357c1ee493ec2b1c70f0acce89fc37c4a6abe"
   }
  }
 },
 "nbformat": 4,
 "nbformat_minor": 2
}
