{
 "cells": [
  {
   "cell_type": "markdown",
   "metadata": {},
   "source": [
    "# Create Tool AGI"
   ]
  },
  {
   "cell_type": "markdown",
   "metadata": {},
   "source": [
    "[![Open In Colab](https://colab.research.google.com/assets/colab-badge.svg)](https://colab.research.google.com/github/fuyu-quant/CreateTool-AGI/blob/main/examples/createtoolagi.ipynb)"
   ]
  },
  {
   "cell_type": "code",
   "execution_count": 1,
   "metadata": {},
   "outputs": [
    {
     "name": "stdout",
     "output_type": "stream",
     "text": [
      "Collecting git+https://github.com/fuyu-quant/CreateTool-AGI.git\n",
      "  Cloning https://github.com/fuyu-quant/CreateTool-AGI.git to /tmp/pip-req-build-ealeth80\n",
      "  Running command git clone --filter=blob:none --quiet https://github.com/fuyu-quant/CreateTool-AGI.git /tmp/pip-req-build-ealeth80\n",
      "  Resolved https://github.com/fuyu-quant/CreateTool-AGI.git to commit d61c1563da74f6f8ea9098b24e05c5b28d6d4621\n",
      "  Preparing metadata (setup.py) ... \u001b[?25ldone\n",
      "\u001b[?25h"
     ]
    }
   ],
   "source": [
    "!pip install git+https://github.com/fuyu-quant/CreateTool-AGI.git"
   ]
  },
  {
   "cell_type": "code",
   "execution_count": 2,
   "metadata": {},
   "outputs": [],
   "source": [
    "%%capture\n",
    "!pip install langchain==0.0.167\n",
    "!pip install openai==0.27.4"
   ]
  },
  {
   "cell_type": "code",
   "execution_count": 3,
   "metadata": {},
   "outputs": [],
   "source": [
    "from createtoolagi import CreateToolAGI\n",
    "\n",
    "import os\n",
    "#os.environ[\"OPENAI_API_KEY\"] = \"YOUR_API_KEY\""
   ]
  },
  {
   "cell_type": "markdown",
   "metadata": {},
   "source": [
    "## Normal LLM"
   ]
  },
  {
   "cell_type": "code",
   "execution_count": 4,
   "metadata": {},
   "outputs": [
    {
     "data": {
      "text/plain": [
       "'The sum of prime numbers from 1 to 100000 is 454396537.'"
      ]
     },
     "execution_count": 4,
     "metadata": {},
     "output_type": "execute_result"
    }
   ],
   "source": [
    "from langchain.llms import OpenAI\n",
    "\n",
    "input = 'What is the sum of the prime numbers from 1 to 100000?'\n",
    "\n",
    "llm = OpenAI(temperature=0, model_name = 'gpt-4')\n",
    "\n",
    "llm(input)"
   ]
  },
  {
   "cell_type": "markdown",
   "metadata": {},
   "source": [
    "## Execute Create Tool AGI"
   ]
  },
  {
   "cell_type": "code",
   "execution_count": 5,
   "metadata": {},
   "outputs": [
    {
     "name": "stdout",
     "output_type": "stream",
     "text": [
      "> Generalize the input task.\n",
      "\u001b[32mGeneralized Task：What is the sum of the prime numbers from A to B?\n",
      "\u001b[0m\n",
      "> Determine if you should make a tool.\n",
      "\u001b[32mI must create the tool before executing.\n",
      "\u001b[0m\n",
      "try:1\n",
      "Error occurred: CreateToolAGI._tool_make() takes 3 positional arguments but 4 were given\n",
      "\n",
      "try:2\n",
      "Error occurred: CreateToolAGI._tool_make() takes 3 positional arguments but 4 were given\n",
      "\n",
      "try:3\n",
      "Error occurred: CreateToolAGI._tool_make() takes 3 positional arguments but 4 were given\n",
      "\n",
      "try:4\n",
      "Error occurred: CreateToolAGI._tool_make() takes 3 positional arguments but 4 were given\n",
      "\n",
      "try:5\n",
      "Error occurred: CreateToolAGI._tool_make() takes 3 positional arguments but 4 were given\n",
      "\n",
      "Reached the maximum number of tries.\n"
     ]
    }
   ],
   "source": [
    "input = 'What is the sum of the prime numbers from 1 to 100000?'\n",
    "tools = []\n",
    "ctagi = CreateToolAGI()\n",
    "\n",
    "ctagi.run(input, tools)"
   ]
  },
  {
   "cell_type": "markdown",
   "metadata": {},
   "source": [
    "## Export to file ver"
   ]
  },
  {
   "cell_type": "code",
   "execution_count": 12,
   "metadata": {},
   "outputs": [
    {
     "name": "stdout",
     "output_type": "stream",
     "text": [
      "> Generalize the input task.\n",
      "\u001b[32mGeneralized Task：Sum of prime numbers from A to B\n",
      "\u001b[0m\n",
      "> Determine if you should make a tool.\n",
      "\u001b[32mI must create the tool before executing.\n",
      "\u001b[0m\n",
      "> Create a tool.\n",
      "\u001b[32mCompleted!\n",
      "Created tool name：SumOfPrimesTool\n",
      "\u001b[0m\n",
      "\n",
      "\n",
      "\u001b[1m> Entering new AgentExecutor chain...\u001b[0m\n",
      "\u001b[32;1m\u001b[1;3mI need to find the sum of prime numbers between 1 and 50. I can use the SumOfPrimesTool for this.\n",
      "Action: SumOfPrimesTool\n",
      "Action Input: 1,50\u001b[0m\n",
      "Observation: \u001b[36;1m\u001b[1;3m328\u001b[0m\n",
      "Thought:\u001b[32;1m\u001b[1;3mI now know the final answer.\n",
      "Final Answer: 328\u001b[0m\n",
      "\n",
      "\u001b[1m> Finished chain.\u001b[0m\n"
     ]
    }
   ],
   "source": [
    "input = 'Sum of prime numbers from 1 to 50'\n",
    "tools = []\n",
    "folder_path = '/home/CreateTool-AGI/data/'\n",
    "\n",
    "ctagi = CreateToolAGI()\n",
    "\n",
    "\n",
    "ctagi.run(input, tools, folder_path)"
   ]
  },
  {
   "cell_type": "markdown",
   "metadata": {},
   "source": [
    "## use the tool you created"
   ]
  },
  {
   "cell_type": "code",
   "execution_count": 15,
   "metadata": {},
   "outputs": [],
   "source": [
    "from SumOfPrimesTool import SumOfPrimesTool"
   ]
  },
  {
   "cell_type": "code",
   "execution_count": 16,
   "metadata": {},
   "outputs": [
    {
     "name": "stdout",
     "output_type": "stream",
     "text": [
      "> Generalize the input task.\n",
      "\u001b[32mGeneralized Task：Sum of prime numbers from A to B\n",
      "\u001b[0m\n",
      "> Determine if you should make a tool.\n",
      "\u001b[32mI do not need to create a tool to run it.\n",
      "\u001b[0m\n",
      "\n",
      "\n",
      "\u001b[1m> Entering new AgentExecutor chain...\u001b[0m\n",
      "\u001b[32;1m\u001b[1;3mI need to find the sum of prime numbers between 8 and 15.\n",
      "Action: SumOfPrimesTool\n",
      "Action Input: 8,15\u001b[0m\n",
      "Observation: \u001b[36;1m\u001b[1;3m24\u001b[0m\n",
      "Thought:\u001b[32;1m\u001b[1;3mI now know the final answer.\n",
      "Final Answer: 24\u001b[0m\n",
      "\n",
      "\u001b[1m> Finished chain.\u001b[0m\n"
     ]
    }
   ],
   "source": [
    "# Change inputs to new ones\n",
    "input = 'Sum of prime numbers from 8 to 15'\n",
    "\n",
    "# Use the tool you created\n",
    "tools = [SumOfPrimesTool()]\n",
    "\n",
    "ctagi = CreateToolAGI()\n",
    "\n",
    "ctagi.run(input, tools)"
   ]
  },
  {
   "cell_type": "code",
   "execution_count": null,
   "metadata": {},
   "outputs": [],
   "source": []
  }
 ],
 "metadata": {
  "kernelspec": {
   "display_name": "Python 3.10.9 ('base')",
   "language": "python",
   "name": "python3"
  },
  "language_info": {
   "codemirror_mode": {
    "name": "ipython",
    "version": 3
   },
   "file_extension": ".py",
   "mimetype": "text/x-python",
   "name": "python",
   "nbconvert_exporter": "python",
   "pygments_lexer": "ipython3",
   "version": "3.10.9"
  },
  "orig_nbformat": 4,
  "vscode": {
   "interpreter": {
    "hash": "d4d1e4263499bec80672ea0156c357c1ee493ec2b1c70f0acce89fc37c4a6abe"
   }
  }
 },
 "nbformat": 4,
 "nbformat_minor": 2
}
