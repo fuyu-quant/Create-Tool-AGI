{
 "cells": [
  {
   "cell_type": "markdown",
   "metadata": {},
   "source": [
    "# Create Tool AGI"
   ]
  },
  {
   "cell_type": "markdown",
   "metadata": {},
   "source": [
    "[![Open In Colab](https://colab.research.google.com/assets/colab-badge.svg)](https://colab.research.google.com/github/fuyu-quant/CreateTool-AGI/blob/main/examples/createtoolagi.ipynb)"
   ]
  },
  {
   "cell_type": "code",
   "execution_count": 1,
   "metadata": {},
   "outputs": [
    {
     "name": "stdout",
     "output_type": "stream",
     "text": [
      "Collecting git+https://github.com/fuyu-quant/CreateTool-AGI.git\n",
      "  Cloning https://github.com/fuyu-quant/CreateTool-AGI.git to /tmp/pip-req-build-0y8kcnfa\n",
      "  Running command git clone --filter=blob:none --quiet https://github.com/fuyu-quant/CreateTool-AGI.git /tmp/pip-req-build-0y8kcnfa\n",
      "  Resolved https://github.com/fuyu-quant/CreateTool-AGI.git to commit a47059a3a0508bdd4ba570caf6ee09131b5bbd84\n",
      "  Preparing metadata (setup.py) ... \u001b[?25ldone\n",
      "\u001b[?25h"
     ]
    }
   ],
   "source": [
    "!pip install git+https://github.com/fuyu-quant/CreateTool-AGI.git"
   ]
  },
  {
   "cell_type": "code",
   "execution_count": 2,
   "metadata": {},
   "outputs": [],
   "source": [
    "%%capture\n",
    "!pip install langchain==0.0.167\n",
    "!pip install openai==0.27.4"
   ]
  },
  {
   "cell_type": "code",
   "execution_count": 3,
   "metadata": {},
   "outputs": [],
   "source": [
    "from createtoolagi import CreateToolAGI\n",
    "\n",
    "import os\n",
    "#os.environ[\"OPENAI_API_KEY\"] = \"YOUR_API_KEY\""
   ]
  },
  {
   "cell_type": "markdown",
   "metadata": {},
   "source": [
    "## Normal LLM"
   ]
  },
  {
   "cell_type": "code",
   "execution_count": null,
   "metadata": {},
   "outputs": [],
   "source": [
    "from langchain.llms import OpenAI\n",
    "\n",
    "input = 'Count the number of prime numbers from 1 to 50 and multiply that number by 100.'\n",
    "\n",
    "llm = OpenAI(temperature=0, model_name = 'gpt-4')\n",
    "\n",
    "llm(input)"
   ]
  },
  {
   "cell_type": "markdown",
   "metadata": {},
   "source": [
    "## Execute Create Tool AGI"
   ]
  },
  {
   "cell_type": "code",
   "execution_count": 5,
   "metadata": {},
   "outputs": [
    {
     "name": "stdout",
     "output_type": "stream",
     "text": [
      "> Generalize the input task.\n",
      "\u001b[32mGeneralized Task：Sum of prime numbers from A to B\n",
      "\u001b[0m\n",
      "> Determine if you should make a tool.\n",
      "\u001b[32mI must create the tool before executing.\n",
      "\u001b[0m\n",
      "> Create a tool.\n",
      "\u001b[32mCompleted!\n",
      "Created tool name：SumOfPrimesTool\n",
      "\u001b[0m\n",
      "\n",
      "\n",
      "\u001b[1m> Entering new AgentExecutor chain...\u001b[0m\n",
      "\u001b[32;1m\u001b[1;3mI need to find the sum of prime numbers between 1 and 50. I can use the SumOfPrimesTool for this task.\n",
      "Action: SumOfPrimesTool\n",
      "Action Input: 1,50\u001b[0m\n",
      "Observation: \u001b[36;1m\u001b[1;3m328\u001b[0m\n",
      "Thought:\u001b[32;1m\u001b[1;3mI now know the final answer.\n",
      "Final Answer: 328\u001b[0m\n",
      "\n",
      "\u001b[1m> Finished chain.\u001b[0m\n"
     ]
    }
   ],
   "source": [
    "input = 'Sum of prime numbers from 1 to 50'\n",
    "tools = []\n",
    "ctagi = CreateToolAGI()\n",
    "\n",
    "ctagi.run(input, tools)"
   ]
  },
  {
   "cell_type": "code",
   "execution_count": 6,
   "metadata": {},
   "outputs": [],
   "source": [
    "from langchain.tools import BaseTool\n",
    "\n",
    "class SumOfPrimesTool(BaseTool):\n",
    "    name = \"SumOfPrimesTool\"\n",
    "    description = \"used for calculating the sum of prime numbers from A to B. The input is a single string with two numbers separated by a comma. For example, if you want to find the sum of prime numbers between 2 and 10, the input is '2,10'.\"\n",
    "\n",
    "    def is_prime(self, num: int) -> bool:\n",
    "        \"Check if a number is prime.\"\n",
    "        if num < 2:\n",
    "            return False\n",
    "        for i in range(2, num):\n",
    "            if num % i == 0:\n",
    "                return False\n",
    "        return True\n",
    "\n",
    "    def _run(self, query: str) -> str:\n",
    "        \"Use the tool.\"\n",
    "        a, b = query.split(\",\")\n",
    "        a, b = int(a), int(b)\n",
    "        prime_sum = sum([x for x in range(a, b + 1) if self.is_prime(x)])\n",
    "        return prime_sum\n",
    "\n",
    "    async def _arun(self, query: str) -> str:\n",
    "        \"Use the tool asynchronously.\"\n",
    "        raise NotImplementedError(\"SumOfPrimesTool does not support async\")"
   ]
  },
  {
   "cell_type": "code",
   "execution_count": null,
   "metadata": {},
   "outputs": [],
   "source": [
    "from langchain.llms import OpenAI\n",
    "from langchain.agents import initialize_agent\n",
    "\n",
    "\n",
    "llm = OpenAI(temperature=0, model_name = 'gpt-4')\n",
    "\n",
    "tools = [SumOfPrimesTool()]\n",
    "\n",
    "agent = initialize_agent(tools, llm, agent=\"zero-shot-react-description\", verbose=True)\n",
    "\n",
    "input = 'Sum of prime numbers from 1 to 2000'\n",
    "\n",
    "agent.run(input)"
   ]
  },
  {
   "cell_type": "markdown",
   "metadata": {},
   "source": [
    "## Export to file ver"
   ]
  },
  {
   "cell_type": "code",
   "execution_count": 12,
   "metadata": {},
   "outputs": [
    {
     "name": "stdout",
     "output_type": "stream",
     "text": [
      "> Generalize the input task.\n",
      "\u001b[32mGeneralized Task：Sum of prime numbers from A to B\n",
      "\u001b[0m\n",
      "> Determine if you should make a tool.\n",
      "\u001b[32mI must create the tool before executing.\n",
      "\u001b[0m\n",
      "> Create a tool.\n",
      "\u001b[32mCompleted!\n",
      "Created tool name：SumOfPrimesTool\n",
      "\u001b[0m\n",
      "\n",
      "\n",
      "\u001b[1m> Entering new AgentExecutor chain...\u001b[0m\n",
      "\u001b[32;1m\u001b[1;3mI need to find the sum of prime numbers between 1 and 50. I can use the SumOfPrimesTool for this.\n",
      "Action: SumOfPrimesTool\n",
      "Action Input: 1,50\u001b[0m\n",
      "Observation: \u001b[36;1m\u001b[1;3m328\u001b[0m\n",
      "Thought:\u001b[32;1m\u001b[1;3mI now know the final answer.\n",
      "Final Answer: 328\u001b[0m\n",
      "\n",
      "\u001b[1m> Finished chain.\u001b[0m\n"
     ]
    }
   ],
   "source": [
    "input = 'Sum of prime numbers from 1 to 50'\n",
    "tools = []\n",
    "folder_path = '/home/CreateTool-AGI/data/'\n",
    "\n",
    "ctagi = CreateToolAGI()\n",
    "\n",
    "\n",
    "ctagi.run(input, tools, folder_path)"
   ]
  },
  {
   "cell_type": "markdown",
   "metadata": {},
   "source": [
    "## use the tool you created"
   ]
  },
  {
   "cell_type": "code",
   "execution_count": 15,
   "metadata": {},
   "outputs": [],
   "source": [
    "from SumOfPrimesTool import SumOfPrimesTool"
   ]
  },
  {
   "cell_type": "code",
   "execution_count": 16,
   "metadata": {},
   "outputs": [
    {
     "name": "stdout",
     "output_type": "stream",
     "text": [
      "> Generalize the input task.\n",
      "\u001b[32mGeneralized Task：Sum of prime numbers from A to B\n",
      "\u001b[0m\n",
      "> Determine if you should make a tool.\n",
      "\u001b[32mI do not need to create a tool to run it.\n",
      "\u001b[0m\n",
      "\n",
      "\n",
      "\u001b[1m> Entering new AgentExecutor chain...\u001b[0m\n",
      "\u001b[32;1m\u001b[1;3mI need to find the sum of prime numbers between 8 and 15.\n",
      "Action: SumOfPrimesTool\n",
      "Action Input: 8,15\u001b[0m\n",
      "Observation: \u001b[36;1m\u001b[1;3m24\u001b[0m\n",
      "Thought:\u001b[32;1m\u001b[1;3mI now know the final answer.\n",
      "Final Answer: 24\u001b[0m\n",
      "\n",
      "\u001b[1m> Finished chain.\u001b[0m\n"
     ]
    }
   ],
   "source": [
    "# Change inputs to new ones\n",
    "input = 'Sum of prime numbers from 8 to 15'\n",
    "\n",
    "# Use the tool you created\n",
    "tools = [SumOfPrimesTool()]\n",
    "\n",
    "ctagi = CreateToolAGI()\n",
    "\n",
    "ctagi.run(input, tools)"
   ]
  },
  {
   "cell_type": "code",
   "execution_count": null,
   "metadata": {},
   "outputs": [],
   "source": []
  }
 ],
 "metadata": {
  "kernelspec": {
   "display_name": "Python 3.10.9 ('base')",
   "language": "python",
   "name": "python3"
  },
  "language_info": {
   "codemirror_mode": {
    "name": "ipython",
    "version": 3
   },
   "file_extension": ".py",
   "mimetype": "text/x-python",
   "name": "python",
   "nbconvert_exporter": "python",
   "pygments_lexer": "ipython3",
   "version": "3.10.9"
  },
  "orig_nbformat": 4,
  "vscode": {
   "interpreter": {
    "hash": "d4d1e4263499bec80672ea0156c357c1ee493ec2b1c70f0acce89fc37c4a6abe"
   }
  }
 },
 "nbformat": 4,
 "nbformat_minor": 2
}
