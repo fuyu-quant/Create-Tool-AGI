{
 "cells": [
  {
   "cell_type": "markdown",
   "metadata": {},
   "source": [
    "# CT-AGI"
   ]
  },
  {
   "cell_type": "markdown",
   "metadata": {},
   "source": [
    "[![Open In Colab](https://colab.research.google.com/assets/colab-badge.svg)](https://colab.research.google.com/github/fuyu-quant/CreateTool-AGI/blob/main/examples/ctagi.ipynb)"
   ]
  },
  {
   "cell_type": "code",
   "execution_count": 1,
   "metadata": {},
   "outputs": [
    {
     "name": "stdout",
     "output_type": "stream",
     "text": [
      "Collecting git+https://github.com/fuyu-quant/CreateTool-AGI.git\n",
      "  Cloning https://github.com/fuyu-quant/CreateTool-AGI.git to /tmp/pip-req-build-pz57wo1g\n",
      "  Running command git clone --filter=blob:none --quiet https://github.com/fuyu-quant/CreateTool-AGI.git /tmp/pip-req-build-pz57wo1g\n",
      "  Resolved https://github.com/fuyu-quant/CreateTool-AGI.git to commit 25937a63f3f08e5f4f9734575e179dbbe309093c\n",
      "  Preparing metadata (setup.py) ... \u001b[?25ldone\n",
      "\u001b[?25hBuilding wheels for collected packages: createtoolagi\n",
      "  Building wheel for createtoolagi (setup.py) ... \u001b[?25ldone\n",
      "\u001b[?25h  Created wheel for createtoolagi: filename=createtoolagi-0.1.2-py3-none-any.whl size=8366 sha256=02cbce7bd96504500920763cb5623f749129e9114d10ccaa01e6ad8b44db0cf2\n",
      "  Stored in directory: /tmp/pip-ephem-wheel-cache-n7f9brss/wheels/7c/ba/46/b1c3a7d693e2bf0b074d226b40ad5cc8f9d360978e0e7fe5d3\n",
      "Successfully built createtoolagi\n",
      "Installing collected packages: createtoolagi\n",
      "  Attempting uninstall: createtoolagi\n",
      "    Found existing installation: createtoolagi 0.1.1\n",
      "    Uninstalling createtoolagi-0.1.1:\n",
      "      Successfully uninstalled createtoolagi-0.1.1\n",
      "Successfully installed createtoolagi-0.1.2\n"
     ]
    }
   ],
   "source": [
    "!pip install git+https://github.com/fuyu-quant/CreateTool-AGI.git"
   ]
  },
  {
   "cell_type": "code",
   "execution_count": 2,
   "metadata": {},
   "outputs": [],
   "source": [
    "%%capture\n",
    "!pip install langchain==0.0.167\n",
    "!pip install openai==0.27.4\n",
    "!pip install tiktoken==0.4.0\n",
    "!pip install qdrant-client==1.2.0"
   ]
  },
  {
   "cell_type": "code",
   "execution_count": 2,
   "metadata": {},
   "outputs": [
    {
     "ename": "ModuleNotFoundError",
     "evalue": "No module named 'creator'",
     "output_type": "error",
     "traceback": [
      "\u001b[0;31m---------------------------------------------------------------------------\u001b[0m",
      "\u001b[0;31mModuleNotFoundError\u001b[0m                       Traceback (most recent call last)",
      "Cell \u001b[0;32mIn[2], line 1\u001b[0m\n\u001b[0;32m----> 1\u001b[0m \u001b[38;5;28;01mfrom\u001b[39;00m \u001b[38;5;21;01mcreatetoolagi\u001b[39;00m \u001b[38;5;28;01mimport\u001b[39;00m CTAGI\n",
      "File \u001b[0;32m/opt/conda/lib/python3.10/site-packages/createtoolagi/__init__.py:2\u001b[0m\n\u001b[1;32m      1\u001b[0m \u001b[39mfrom\u001b[39;00m \u001b[39m.\u001b[39;00m\u001b[39mcreatetoolagi\u001b[39;00m \u001b[39mimport\u001b[39;00m CreateToolAGI\n\u001b[0;32m----> 2\u001b[0m \u001b[39mfrom\u001b[39;00m \u001b[39m.\u001b[39;00m\u001b[39mctagi\u001b[39;00m \u001b[39mimport\u001b[39;00m CTAGI\n\u001b[1;32m      3\u001b[0m \u001b[39mfrom\u001b[39;00m \u001b[39m.\u001b[39;00m\u001b[39mcreator\u001b[39;00m \u001b[39mimport\u001b[39;00m Creator\n\u001b[1;32m      4\u001b[0m \u001b[39mfrom\u001b[39;00m \u001b[39m.\u001b[39;00m\u001b[39mdecider\u001b[39;00m \u001b[39mimport\u001b[39;00m Decider\n",
      "File \u001b[0;32m/opt/conda/lib/python3.10/site-packages/createtoolagi/ctagi.py:6\u001b[0m\n\u001b[1;32m      2\u001b[0m \u001b[39mfrom\u001b[39;00m \u001b[39mlangchain\u001b[39;00m\u001b[39m.\u001b[39;00m\u001b[39membeddings\u001b[39;00m\u001b[39m.\u001b[39;00m\u001b[39mopenai\u001b[39;00m \u001b[39mimport\u001b[39;00m OpenAIEmbeddings\n\u001b[1;32m      4\u001b[0m \u001b[39mfrom\u001b[39;00m \u001b[39mqdrant_client\u001b[39;00m \u001b[39mimport\u001b[39;00m QdrantClient\n\u001b[0;32m----> 6\u001b[0m \u001b[39mfrom\u001b[39;00m \u001b[39mcreator\u001b[39;00m \u001b[39mimport\u001b[39;00m Creator\n\u001b[1;32m      7\u001b[0m \u001b[39mfrom\u001b[39;00m \u001b[39mdecider\u001b[39;00m \u001b[39mimport\u001b[39;00m Decider\n\u001b[1;32m      8\u001b[0m \u001b[39mfrom\u001b[39;00m \u001b[39mexecutor\u001b[39;00m \u001b[39mimport\u001b[39;00m Executor\n",
      "\u001b[0;31mModuleNotFoundError\u001b[0m: No module named 'creator'"
     ]
    }
   ],
   "source": [
    "from createtoolagi import CTAGI"
   ]
  },
  {
   "cell_type": "code",
   "execution_count": null,
   "metadata": {},
   "outputs": [],
   "source": []
  }
 ],
 "metadata": {
  "kernelspec": {
   "display_name": "Python 3.10.9 ('base')",
   "language": "python",
   "name": "python3"
  },
  "language_info": {
   "codemirror_mode": {
    "name": "ipython",
    "version": 3
   },
   "file_extension": ".py",
   "mimetype": "text/x-python",
   "name": "python",
   "nbconvert_exporter": "python",
   "pygments_lexer": "ipython3",
   "version": "3.10.9"
  },
  "orig_nbformat": 4,
  "vscode": {
   "interpreter": {
    "hash": "d4d1e4263499bec80672ea0156c357c1ee493ec2b1c70f0acce89fc37c4a6abe"
   }
  }
 },
 "nbformat": 4,
 "nbformat_minor": 2
}
