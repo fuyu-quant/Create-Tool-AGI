{
 "cells": [
  {
   "cell_type": "markdown",
   "metadata": {},
   "source": [
    "# CT-AGI"
   ]
  },
  {
   "cell_type": "markdown",
   "metadata": {},
   "source": [
    "[![Open In Colab](https://colab.research.google.com/assets/colab-badge.svg)](https://colab.research.google.com/github/fuyu-quant/CreateTool-AGI/blob/main/examples/ctagi.ipynb)"
   ]
  },
  {
   "cell_type": "code",
   "execution_count": 1,
   "metadata": {},
   "outputs": [
    {
     "name": "stdout",
     "output_type": "stream",
     "text": [
      "Collecting git+https://github.com/fuyu-quant/CreateTool-AGI.git\n",
      "  Cloning https://github.com/fuyu-quant/CreateTool-AGI.git to /tmp/pip-req-build-5hlr6i7u\n",
      "  Running command git clone --filter=blob:none --quiet https://github.com/fuyu-quant/CreateTool-AGI.git /tmp/pip-req-build-5hlr6i7u\n",
      "  Resolved https://github.com/fuyu-quant/CreateTool-AGI.git to commit f5485b2cb018192a9ae52bc1bcd07417966067b7\n",
      "  Preparing metadata (setup.py) ... \u001b[?25ldone\n",
      "\u001b[?25hRequirement already satisfied: langchain==0.0.167 in /opt/conda/lib/python3.10/site-packages (from createtoolagi==0.1.13) (0.0.167)\n",
      "Requirement already satisfied: openai==0.27.4 in /opt/conda/lib/python3.10/site-packages (from createtoolagi==0.1.13) (0.27.4)\n",
      "Requirement already satisfied: tiktoken==0.4.0 in /opt/conda/lib/python3.10/site-packages (from createtoolagi==0.1.13) (0.4.0)\n",
      "Requirement already satisfied: qdrant-client==1.2.0 in /opt/conda/lib/python3.10/site-packages (from createtoolagi==0.1.13) (1.2.0)\n",
      "Requirement already satisfied: PyYAML>=5.4.1 in /opt/conda/lib/python3.10/site-packages (from langchain==0.0.167->createtoolagi==0.1.13) (6.0)\n",
      "Requirement already satisfied: numexpr<3.0.0,>=2.8.4 in /opt/conda/lib/python3.10/site-packages (from langchain==0.0.167->createtoolagi==0.1.13) (2.8.4)\n",
      "Requirement already satisfied: tqdm>=4.48.0 in /opt/conda/lib/python3.10/site-packages (from langchain==0.0.167->createtoolagi==0.1.13) (4.65.0)\n",
      "Requirement already satisfied: aiohttp<4.0.0,>=3.8.3 in /opt/conda/lib/python3.10/site-packages (from langchain==0.0.167->createtoolagi==0.1.13) (3.8.4)\n",
      "Requirement already satisfied: numpy<2,>=1 in /opt/conda/lib/python3.10/site-packages (from langchain==0.0.167->createtoolagi==0.1.13) (1.23.5)\n",
      "Requirement already satisfied: pydantic<2,>=1 in /opt/conda/lib/python3.10/site-packages (from langchain==0.0.167->createtoolagi==0.1.13) (1.10.8)\n",
      "Requirement already satisfied: tenacity<9.0.0,>=8.1.0 in /opt/conda/lib/python3.10/site-packages (from langchain==0.0.167->createtoolagi==0.1.13) (8.2.2)\n",
      "Requirement already satisfied: SQLAlchemy<3,>=1.4 in /opt/conda/lib/python3.10/site-packages (from langchain==0.0.167->createtoolagi==0.1.13) (2.0.5.post1)\n",
      "Requirement already satisfied: dataclasses-json<0.6.0,>=0.5.7 in /opt/conda/lib/python3.10/site-packages (from langchain==0.0.167->createtoolagi==0.1.13) (0.5.7)\n",
      "Requirement already satisfied: async-timeout<5.0.0,>=4.0.0 in /opt/conda/lib/python3.10/site-packages (from langchain==0.0.167->createtoolagi==0.1.13) (4.0.2)\n",
      "Requirement already satisfied: requests<3,>=2 in /opt/conda/lib/python3.10/site-packages (from langchain==0.0.167->createtoolagi==0.1.13) (2.28.2)\n",
      "Requirement already satisfied: openapi-schema-pydantic<2.0,>=1.2 in /opt/conda/lib/python3.10/site-packages (from langchain==0.0.167->createtoolagi==0.1.13) (1.2.4)\n",
      "Requirement already satisfied: portalocker<3.0.0,>=2.7.0 in /opt/conda/lib/python3.10/site-packages (from qdrant-client==1.2.0->createtoolagi==0.1.13) (2.7.0)\n",
      "Requirement already satisfied: grpcio>=1.41.0 in /opt/conda/lib/python3.10/site-packages (from qdrant-client==1.2.0->createtoolagi==0.1.13) (1.54.2)\n",
      "Requirement already satisfied: httpx[http2]>=0.14.0 in /opt/conda/lib/python3.10/site-packages (from qdrant-client==1.2.0->createtoolagi==0.1.13) (0.24.1)\n",
      "Requirement already satisfied: typing-extensions<4.6.0,>=4.0.0 in /opt/conda/lib/python3.10/site-packages (from qdrant-client==1.2.0->createtoolagi==0.1.13) (4.5.0)\n",
      "Requirement already satisfied: grpcio-tools>=1.41.0 in /opt/conda/lib/python3.10/site-packages (from qdrant-client==1.2.0->createtoolagi==0.1.13) (1.54.2)\n",
      "Requirement already satisfied: urllib3<2.0.0,>=1.26.14 in /opt/conda/lib/python3.10/site-packages (from qdrant-client==1.2.0->createtoolagi==0.1.13) (1.26.15)\n",
      "Requirement already satisfied: regex>=2022.1.18 in /opt/conda/lib/python3.10/site-packages (from tiktoken==0.4.0->createtoolagi==0.1.13) (2023.5.5)\n",
      "Requirement already satisfied: attrs>=17.3.0 in /opt/conda/lib/python3.10/site-packages (from aiohttp<4.0.0,>=3.8.3->langchain==0.0.167->createtoolagi==0.1.13) (22.2.0)\n",
      "Requirement already satisfied: frozenlist>=1.1.1 in /opt/conda/lib/python3.10/site-packages (from aiohttp<4.0.0,>=3.8.3->langchain==0.0.167->createtoolagi==0.1.13) (1.3.3)\n",
      "Requirement already satisfied: yarl<2.0,>=1.0 in /opt/conda/lib/python3.10/site-packages (from aiohttp<4.0.0,>=3.8.3->langchain==0.0.167->createtoolagi==0.1.13) (1.9.2)\n",
      "Requirement already satisfied: multidict<7.0,>=4.5 in /opt/conda/lib/python3.10/site-packages (from aiohttp<4.0.0,>=3.8.3->langchain==0.0.167->createtoolagi==0.1.13) (6.0.4)\n",
      "Requirement already satisfied: charset-normalizer<4.0,>=2.0 in /opt/conda/lib/python3.10/site-packages (from aiohttp<4.0.0,>=3.8.3->langchain==0.0.167->createtoolagi==0.1.13) (2.1.1)\n",
      "Requirement already satisfied: aiosignal>=1.1.2 in /opt/conda/lib/python3.10/site-packages (from aiohttp<4.0.0,>=3.8.3->langchain==0.0.167->createtoolagi==0.1.13) (1.3.1)\n",
      "Requirement already satisfied: typing-inspect>=0.4.0 in /opt/conda/lib/python3.10/site-packages (from dataclasses-json<0.6.0,>=0.5.7->langchain==0.0.167->createtoolagi==0.1.13) (0.9.0)\n",
      "Requirement already satisfied: marshmallow-enum<2.0.0,>=1.5.1 in /opt/conda/lib/python3.10/site-packages (from dataclasses-json<0.6.0,>=0.5.7->langchain==0.0.167->createtoolagi==0.1.13) (1.5.1)\n",
      "Requirement already satisfied: marshmallow<4.0.0,>=3.3.0 in /opt/conda/lib/python3.10/site-packages (from dataclasses-json<0.6.0,>=0.5.7->langchain==0.0.167->createtoolagi==0.1.13) (3.19.0)\n",
      "Requirement already satisfied: setuptools in /opt/conda/lib/python3.10/site-packages (from grpcio-tools>=1.41.0->qdrant-client==1.2.0->createtoolagi==0.1.13) (67.6.0)\n",
      "Requirement already satisfied: protobuf<5.0dev,>=4.21.6 in /opt/conda/lib/python3.10/site-packages (from grpcio-tools>=1.41.0->qdrant-client==1.2.0->createtoolagi==0.1.13) (4.21.12)\n",
      "Requirement already satisfied: certifi in /opt/conda/lib/python3.10/site-packages (from httpx[http2]>=0.14.0->qdrant-client==1.2.0->createtoolagi==0.1.13) (2022.12.7)\n",
      "Requirement already satisfied: sniffio in /opt/conda/lib/python3.10/site-packages (from httpx[http2]>=0.14.0->qdrant-client==1.2.0->createtoolagi==0.1.13) (1.3.0)\n",
      "Requirement already satisfied: httpcore<0.18.0,>=0.15.0 in /opt/conda/lib/python3.10/site-packages (from httpx[http2]>=0.14.0->qdrant-client==1.2.0->createtoolagi==0.1.13) (0.17.2)\n",
      "Requirement already satisfied: idna in /opt/conda/lib/python3.10/site-packages (from httpx[http2]>=0.14.0->qdrant-client==1.2.0->createtoolagi==0.1.13) (3.4)\n",
      "Requirement already satisfied: h2<5,>=3 in /opt/conda/lib/python3.10/site-packages (from httpx[http2]>=0.14.0->qdrant-client==1.2.0->createtoolagi==0.1.13) (4.1.0)\n",
      "Requirement already satisfied: greenlet!=0.4.17 in /opt/conda/lib/python3.10/site-packages (from SQLAlchemy<3,>=1.4->langchain==0.0.167->createtoolagi==0.1.13) (2.0.2)\n",
      "Requirement already satisfied: hyperframe<7,>=6.0 in /opt/conda/lib/python3.10/site-packages (from h2<5,>=3->httpx[http2]>=0.14.0->qdrant-client==1.2.0->createtoolagi==0.1.13) (6.0.1)\n",
      "Requirement already satisfied: hpack<5,>=4.0 in /opt/conda/lib/python3.10/site-packages (from h2<5,>=3->httpx[http2]>=0.14.0->qdrant-client==1.2.0->createtoolagi==0.1.13) (4.0.0)\n",
      "Requirement already satisfied: anyio<5.0,>=3.0 in /opt/conda/lib/python3.10/site-packages (from httpcore<0.18.0,>=0.15.0->httpx[http2]>=0.14.0->qdrant-client==1.2.0->createtoolagi==0.1.13) (3.6.2)\n",
      "Requirement already satisfied: h11<0.15,>=0.13 in /opt/conda/lib/python3.10/site-packages (from httpcore<0.18.0,>=0.15.0->httpx[http2]>=0.14.0->qdrant-client==1.2.0->createtoolagi==0.1.13) (0.14.0)\n",
      "Requirement already satisfied: packaging>=17.0 in /opt/conda/lib/python3.10/site-packages (from marshmallow<4.0.0,>=3.3.0->dataclasses-json<0.6.0,>=0.5.7->langchain==0.0.167->createtoolagi==0.1.13) (23.0)\n",
      "Requirement already satisfied: mypy-extensions>=0.3.0 in /opt/conda/lib/python3.10/site-packages (from typing-inspect>=0.4.0->dataclasses-json<0.6.0,>=0.5.7->langchain==0.0.167->createtoolagi==0.1.13) (1.0.0)\n",
      "Building wheels for collected packages: createtoolagi\n",
      "  Building wheel for createtoolagi (setup.py) ... \u001b[?25ldone\n",
      "\u001b[?25h  Created wheel for createtoolagi: filename=createtoolagi-0.1.13-py3-none-any.whl size=8952 sha256=2ef70d90d02a6bddbe5d0b75c37d75f621a12f46c0e376ec325589ea66f55f15\n",
      "  Stored in directory: /tmp/pip-ephem-wheel-cache-5v7g9qbh/wheels/7c/ba/46/b1c3a7d693e2bf0b074d226b40ad5cc8f9d360978e0e7fe5d3\n",
      "Successfully built createtoolagi\n",
      "Installing collected packages: createtoolagi\n",
      "  Attempting uninstall: createtoolagi\n",
      "    Found existing installation: createtoolagi 0.1.12\n",
      "    Uninstalling createtoolagi-0.1.12:\n",
      "      Successfully uninstalled createtoolagi-0.1.12\n",
      "Successfully installed createtoolagi-0.1.13\n"
     ]
    }
   ],
   "source": [
    "!pip install git+https://github.com/fuyu-quant/CreateTool-AGI.git"
   ]
  },
  {
   "cell_type": "code",
   "execution_count": 2,
   "metadata": {},
   "outputs": [],
   "source": [
    "%%capture\n",
    "!pip install langchain==0.0.167\n",
    "!pip install openai==0.27.4\n",
    "!pip install tiktoken==0.4.0\n",
    "!pip install qdrant-client==1.2.0"
   ]
  },
  {
   "cell_type": "code",
   "execution_count": 5,
   "metadata": {},
   "outputs": [],
   "source": [
    "!rm -r ./tools"
   ]
  },
  {
   "cell_type": "code",
   "execution_count": 2,
   "metadata": {},
   "outputs": [],
   "source": [
    "from createtoolagi import CTAGI"
   ]
  },
  {
   "cell_type": "code",
   "execution_count": 3,
   "metadata": {},
   "outputs": [],
   "source": [
    "base_model_name = 'gpt-4'\n",
    "create_model_name = 'gpt-4'\n",
    "embegging_model_name = 'text-embedding-ada-002'\n",
    "\n",
    "ctagi = CTAGI(\n",
    "    base_model_name=base_model_name, \n",
    "    create_model_name=create_model_name, \n",
    "    embegging_model_name=embegging_model_name\n",
    "    )"
   ]
  },
  {
   "cell_type": "code",
   "execution_count": 4,
   "metadata": {},
   "outputs": [
    {
     "name": "stdout",
     "output_type": "stream",
     "text": [
      "> Generalize the input task.\n",
      "\u001b[32mGeneralized Task：What is the sum of the prime numbers from A to B?\n",
      "\u001b[0m\n",
      "> Search tools.\n",
      "\u001b[32mSearch results：\n",
      "[]\n",
      "\u001b[0m\n",
      "> Decide if the task is executable.\n",
      "\u001b[32mI must create the tool before executing.\n",
      "\u001b[0m\n",
      "Try:1\n",
      "\u001b[32mError occurred: 'Creator' object is not callable\n",
      "\u001b[0m\n",
      "Try:2\n",
      "\u001b[32mError occurred: 'Creator' object is not callable\n",
      "\u001b[0m\n",
      "Try:3\n",
      "\u001b[32mError occurred: 'Creator' object is not callable\n",
      "\u001b[0m\n",
      "Try:4\n",
      "\u001b[32mError occurred: 'Creator' object is not callable\n",
      "\u001b[0m\n",
      "Try:5\n",
      "\u001b[32mError occurred: 'Creator' object is not callable\n",
      "\u001b[0m\n",
      "\u001b[32mReached the maximum number of tries.\u001b[0m\n"
     ]
    },
    {
     "ename": "NameError",
     "evalue": "name 'output' is not defined",
     "output_type": "error",
     "traceback": [
      "\u001b[0;31m---------------------------------------------------------------------------\u001b[0m",
      "\u001b[0;31mNameError\u001b[0m                                 Traceback (most recent call last)",
      "Cell \u001b[0;32mIn[4], line 3\u001b[0m\n\u001b[1;32m      1\u001b[0m \u001b[38;5;28minput\u001b[39m \u001b[38;5;241m=\u001b[39m \u001b[38;5;124m'\u001b[39m\u001b[38;5;124mWhat is the sum of the prime numbers from 1 to 100000?\u001b[39m\u001b[38;5;124m'\u001b[39m\n\u001b[0;32m----> 3\u001b[0m \u001b[43mctagi\u001b[49m\u001b[38;5;241;43m.\u001b[39;49m\u001b[43mrun\u001b[49m\u001b[43m(\u001b[49m\u001b[38;5;28;43minput\u001b[39;49m\u001b[38;5;241;43m=\u001b[39;49m\u001b[38;5;28;43minput\u001b[39;49m\u001b[43m)\u001b[49m\n",
      "File \u001b[0;32m/opt/conda/lib/python3.10/site-packages/createtoolagi/ctagi.py:74\u001b[0m, in \u001b[0;36mCTAGI.run\u001b[0;34m(self, input)\u001b[0m\n\u001b[1;32m     70\u001b[0m     \u001b[39mif\u001b[39;00m count \u001b[39m>\u001b[39m\u001b[39m=\u001b[39m \u001b[39m5\u001b[39m:\n\u001b[1;32m     71\u001b[0m         \u001b[39mprint\u001b[39m(\u001b[39m'\u001b[39m\u001b[39m\\033\u001b[39;00m\u001b[39m[32m\u001b[39m\u001b[39m'\u001b[39m \u001b[39m+\u001b[39m \u001b[39m\"\u001b[39m\u001b[39mReached the maximum number of tries.\u001b[39m\u001b[39m\"\u001b[39m \u001b[39m+\u001b[39m \u001b[39m'\u001b[39m\u001b[39m\\033\u001b[39;00m\u001b[39m[0m\u001b[39m\u001b[39m'\u001b[39m)\n\u001b[0;32m---> 74\u001b[0m \u001b[39mreturn\u001b[39;00m output\n",
      "\u001b[0;31mNameError\u001b[0m: name 'output' is not defined"
     ]
    }
   ],
   "source": [
    "input = 'What is the sum of the prime numbers from 1 to 100000?'\n",
    "\n",
    "ctagi.run(input=input)"
   ]
  },
  {
   "cell_type": "code",
   "execution_count": 17,
   "metadata": {},
   "outputs": [
    {
     "ename": "NameError",
     "evalue": "name 'qdrant' is not defined",
     "output_type": "error",
     "traceback": [
      "\u001b[0;31m---------------------------------------------------------------------------\u001b[0m",
      "\u001b[0;31mNameError\u001b[0m                                 Traceback (most recent call last)",
      "Cell \u001b[0;32mIn[17], line 1\u001b[0m\n\u001b[0;32m----> 1\u001b[0m \u001b[43mqdrant\u001b[49m\u001b[38;5;241m.\u001b[39mcreate_collection(\n\u001b[1;32m      2\u001b[0m     collection_name \u001b[38;5;241m=\u001b[39m \u001b[38;5;124m'\u001b[39m\u001b[38;5;124mtool_store\u001b[39m\u001b[38;5;124m'\u001b[39m,\n\u001b[1;32m      3\u001b[0m     vectors_config\u001b[38;5;241m=\u001b[39mmodels\u001b[38;5;241m.\u001b[39mVectorParams(\n\u001b[1;32m      4\u001b[0m         size\u001b[38;5;241m=\u001b[39m\u001b[38;5;241m1536\u001b[39m, \u001b[38;5;66;03m# Vector size is defined by used model\u001b[39;00m\n\u001b[1;32m      5\u001b[0m         distance\u001b[38;5;241m=\u001b[39mmodels\u001b[38;5;241m.\u001b[39mDistance\u001b[38;5;241m.\u001b[39mCOSINE\n\u001b[1;32m      6\u001b[0m         )\n\u001b[1;32m      7\u001b[0m )\n",
      "\u001b[0;31mNameError\u001b[0m: name 'qdrant' is not defined"
     ]
    }
   ],
   "source": [
    "qdrant.create_collection(\n",
    "    collection_name = 'tool_store',\n",
    "    vectors_config=models.VectorParams(\n",
    "        size=1536, # Vector size is defined by used model\n",
    "        distance=models.Distance.COSINE\n",
    "        )\n",
    ")"
   ]
  },
  {
   "cell_type": "code",
   "execution_count": 28,
   "metadata": {},
   "outputs": [
    {
     "name": "stdout",
     "output_type": "stream",
     "text": [
      "1\n"
     ]
    }
   ],
   "source": [
    "from langchain.embeddings.openai import OpenAIEmbeddings\n",
    "from qdrant_client import QdrantClient\n",
    "from qdrant_client import models\n",
    "import re\n",
    "\n",
    "path = './tools'\n",
    "qdrant = QdrantClient(path=path)\n",
    "\n",
    "qdrant.create_collection(\n",
    "    collection_name = 'tool_store',\n",
    "    vectors_config=models.VectorParams(\n",
    "        size=1536, # Vector size is defined by used model\n",
    "        distance=models.Distance.COSINE\n",
    "        )\n",
    ")\n",
    "\n",
    "model = 'text-embedding-ada-002'\n",
    "embeddings = OpenAIEmbeddings(model = model)\n",
    "\n",
    "count = qdrant.count(collection_name=\"tool_store\", exact=True)\n",
    "idx = int(f'{count}'.replace('count=', '')) + 1\n",
    "print(idx)\n",
    "\n",
    "\n",
    "discription = \"used for calculating the sum of prime numbers from A to B. The input is a single string with two numbers separated by a comma. For example, if you want to find the sum of prime numbers between 1 and 10, the input is '1,10'.\"\n",
    "\n",
    "code = \"\"\"\n",
    "from langchain.tools import BaseTool\n",
    "\n",
    "class PrimeSumTool(BaseTool):\n",
    "    name = \"PrimeSumTool\"\n",
    "    description = \"used for calculating the sum of prime numbers from A to B. The input is a single string with two numbers separated by a comma. For example, if you want to find the sum of prime numbers between 1 and 10, the input is '1,10'.\"\n",
    "\n",
    "    def is_prime(self, num: int) -> bool:\n",
    "        if num < 2:\n",
    "            return False\n",
    "        for i in range(2, num):\n",
    "            if num % i == 0:\n",
    "                return False\n",
    "        return True\n",
    "\n",
    "    def _run(self, query: str) -> str:\n",
    "        \"Use the tool.\"\n",
    "        a, b = query.split(\",\")\n",
    "        a, b = int(a), int(b)\n",
    "        prime_sum = sum([x for x in range(a, b + 1) if self.is_prime(x)])\n",
    "        return str(prime_sum)\n",
    "\n",
    "    async def _arun(self, query: str) -> str:\n",
    "        \"Use the tool asynchronously.\"\n",
    "        raise NotImplementedError(\"PrimeSumTool does not support async\")\n",
    "\"\"\"\n",
    "tool_name = re.search(r'name = \"(.*?)\"', code).group(1)\n",
    "description = re.search(r'description = \"(.*?)\"', code).group(1)\n",
    "\n",
    "payload = {'discription': discription, 'code': code, 'tool_name': tool_name}\n",
    "\n",
    "embedding = embeddings.embed_query(discription)\n",
    "\n",
    "# upload data\n",
    "qdrant.upload_records(\n",
    "    collection_name=\"tool_store\",\n",
    "    records=[models.Record(id=idx, vector=embedding, payload=payload)]\n",
    ")"
   ]
  },
  {
   "cell_type": "code",
   "execution_count": null,
   "metadata": {},
   "outputs": [],
   "source": []
  }
 ],
 "metadata": {
  "kernelspec": {
   "display_name": "Python 3.10.9 ('base')",
   "language": "python",
   "name": "python3"
  },
  "language_info": {
   "codemirror_mode": {
    "name": "ipython",
    "version": 3
   },
   "file_extension": ".py",
   "mimetype": "text/x-python",
   "name": "python",
   "nbconvert_exporter": "python",
   "pygments_lexer": "ipython3",
   "version": "3.10.9"
  },
  "orig_nbformat": 4,
  "vscode": {
   "interpreter": {
    "hash": "d4d1e4263499bec80672ea0156c357c1ee493ec2b1c70f0acce89fc37c4a6abe"
   }
  }
 },
 "nbformat": 4,
 "nbformat_minor": 2
}
