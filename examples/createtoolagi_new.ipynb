{
 "cells": [
  {
   "cell_type": "markdown",
   "metadata": {},
   "source": [
    "# CreateTool-AGI"
   ]
  },
  {
   "cell_type": "markdown",
   "metadata": {},
   "source": [
    "[![Open In Colab](https://colab.research.google.com/assets/colab-badge.svg)](https://colab.research.google.com/github/fuyu-quant/CreateTool-AGI/blob/main/examples/createtoolagi_new.ipynb)"
   ]
  },
  {
   "cell_type": "code",
   "execution_count": 1,
   "metadata": {},
   "outputs": [],
   "source": [
    "%%capture\n",
    "!pip install git+https://github.com/fuyu-quant/CreateTool-AGI.git"
   ]
  },
  {
   "cell_type": "code",
   "execution_count": 4,
   "metadata": {},
   "outputs": [],
   "source": [
    "!rm -r ./tools"
   ]
  },
  {
   "cell_type": "code",
   "execution_count": 4,
   "metadata": {},
   "outputs": [],
   "source": [
    "from createtoolagi import CTAGI\n",
    "\n",
    "#import os\n",
    "#os.environ[\"OPENAI_API_KEY\"] = \"YOUR_API_KEY\""
   ]
  },
  {
   "cell_type": "code",
   "execution_count": 5,
   "metadata": {},
   "outputs": [
    {
     "ename": "ContextualVersionConflict",
     "evalue": "(numexpr 2.8.3 (/opt/conda/lib/python3.10/site-packages), Requirement.parse('numexpr<3.0.0,>=2.8.4'), {'langchain'})",
     "output_type": "error",
     "traceback": [
      "\u001b[0;31m---------------------------------------------------------------------------\u001b[0m",
      "\u001b[0;31mContextualVersionConflict\u001b[0m                 Traceback (most recent call last)",
      "Cell \u001b[0;32mIn[5], line 3\u001b[0m\n\u001b[1;32m      1\u001b[0m \u001b[38;5;28;01mimport\u001b[39;00m \u001b[38;5;21;01mpkg_resources\u001b[39;00m\n\u001b[1;32m      2\u001b[0m package_name \u001b[38;5;241m=\u001b[39m \u001b[38;5;124m\"\u001b[39m\u001b[38;5;124mcreatetoolagi\u001b[39m\u001b[38;5;124m\"\u001b[39m  \n\u001b[0;32m----> 3\u001b[0m pkg \u001b[38;5;241m=\u001b[39m \u001b[43mpkg_resources\u001b[49m\u001b[38;5;241;43m.\u001b[39;49m\u001b[43mget_distribution\u001b[49m\u001b[43m(\u001b[49m\u001b[43mpackage_name\u001b[49m\u001b[43m)\u001b[49m\n\u001b[1;32m      4\u001b[0m \u001b[38;5;28mprint\u001b[39m(pkg\u001b[38;5;241m.\u001b[39mversion)\n",
      "File \u001b[0;32m/opt/conda/lib/python3.10/site-packages/pkg_resources/__init__.py:526\u001b[0m, in \u001b[0;36mget_distribution\u001b[0;34m(dist)\u001b[0m\n\u001b[1;32m    524\u001b[0m     dist \u001b[39m=\u001b[39m Requirement\u001b[39m.\u001b[39mparse(dist)\n\u001b[1;32m    525\u001b[0m \u001b[39mif\u001b[39;00m \u001b[39misinstance\u001b[39m(dist, Requirement):\n\u001b[0;32m--> 526\u001b[0m     dist \u001b[39m=\u001b[39m get_provider(dist)\n\u001b[1;32m    527\u001b[0m \u001b[39mif\u001b[39;00m \u001b[39mnot\u001b[39;00m \u001b[39misinstance\u001b[39m(dist, Distribution):\n\u001b[1;32m    528\u001b[0m     \u001b[39mraise\u001b[39;00m \u001b[39mTypeError\u001b[39;00m(\u001b[39m\"\u001b[39m\u001b[39mExpected string, Requirement, or Distribution\u001b[39m\u001b[39m\"\u001b[39m, dist)\n",
      "File \u001b[0;32m/opt/conda/lib/python3.10/site-packages/pkg_resources/__init__.py:398\u001b[0m, in \u001b[0;36mget_provider\u001b[0;34m(moduleOrReq)\u001b[0m\n\u001b[1;32m    396\u001b[0m \u001b[39m\u001b[39m\u001b[39m\"\"\"Return an IResourceProvider for the named module or requirement\"\"\"\u001b[39;00m\n\u001b[1;32m    397\u001b[0m \u001b[39mif\u001b[39;00m \u001b[39misinstance\u001b[39m(moduleOrReq, Requirement):\n\u001b[0;32m--> 398\u001b[0m     \u001b[39mreturn\u001b[39;00m working_set\u001b[39m.\u001b[39mfind(moduleOrReq) \u001b[39mor\u001b[39;00m require(\u001b[39mstr\u001b[39;49m(moduleOrReq))[\u001b[39m0\u001b[39m]\n\u001b[1;32m    399\u001b[0m \u001b[39mtry\u001b[39;00m:\n\u001b[1;32m    400\u001b[0m     module \u001b[39m=\u001b[39m sys\u001b[39m.\u001b[39mmodules[moduleOrReq]\n",
      "File \u001b[0;32m/opt/conda/lib/python3.10/site-packages/pkg_resources/__init__.py:966\u001b[0m, in \u001b[0;36mWorkingSet.require\u001b[0;34m(self, *requirements)\u001b[0m\n\u001b[1;32m    957\u001b[0m \u001b[39mdef\u001b[39;00m \u001b[39mrequire\u001b[39m(\u001b[39mself\u001b[39m, \u001b[39m*\u001b[39mrequirements):\n\u001b[1;32m    958\u001b[0m \u001b[39m    \u001b[39m\u001b[39m\"\"\"Ensure that distributions matching `requirements` are activated\u001b[39;00m\n\u001b[1;32m    959\u001b[0m \n\u001b[1;32m    960\u001b[0m \u001b[39m    `requirements` must be a string or a (possibly-nested) sequence\u001b[39;00m\n\u001b[0;32m   (...)\u001b[0m\n\u001b[1;32m    964\u001b[0m \u001b[39m    included, even if they were already activated in this working set.\u001b[39;00m\n\u001b[1;32m    965\u001b[0m \u001b[39m    \"\"\"\u001b[39;00m\n\u001b[0;32m--> 966\u001b[0m     needed \u001b[39m=\u001b[39m \u001b[39mself\u001b[39;49m\u001b[39m.\u001b[39;49mresolve(parse_requirements(requirements))\n\u001b[1;32m    968\u001b[0m     \u001b[39mfor\u001b[39;00m dist \u001b[39min\u001b[39;00m needed:\n\u001b[1;32m    969\u001b[0m         \u001b[39mself\u001b[39m\u001b[39m.\u001b[39madd(dist)\n",
      "File \u001b[0;32m/opt/conda/lib/python3.10/site-packages/pkg_resources/__init__.py:827\u001b[0m, in \u001b[0;36mWorkingSet.resolve\u001b[0;34m(self, requirements, env, installer, replace_conflicting, extras)\u001b[0m\n\u001b[1;32m    824\u001b[0m \u001b[39mif\u001b[39;00m \u001b[39mnot\u001b[39;00m req_extras\u001b[39m.\u001b[39mmarkers_pass(req, extras):\n\u001b[1;32m    825\u001b[0m     \u001b[39mcontinue\u001b[39;00m\n\u001b[0;32m--> 827\u001b[0m dist \u001b[39m=\u001b[39m \u001b[39mself\u001b[39;49m\u001b[39m.\u001b[39;49m_resolve_dist(\n\u001b[1;32m    828\u001b[0m     req, best, replace_conflicting, env, installer, required_by, to_activate\n\u001b[1;32m    829\u001b[0m )\n\u001b[1;32m    831\u001b[0m \u001b[39m# push the new requirements onto the stack\u001b[39;00m\n\u001b[1;32m    832\u001b[0m new_requirements \u001b[39m=\u001b[39m dist\u001b[39m.\u001b[39mrequires(req\u001b[39m.\u001b[39mextras)[::\u001b[39m-\u001b[39m\u001b[39m1\u001b[39m]\n",
      "File \u001b[0;32m/opt/conda/lib/python3.10/site-packages/pkg_resources/__init__.py:873\u001b[0m, in \u001b[0;36mWorkingSet._resolve_dist\u001b[0;34m(self, req, best, replace_conflicting, env, installer, required_by, to_activate)\u001b[0m\n\u001b[1;32m    870\u001b[0m \u001b[39mif\u001b[39;00m dist \u001b[39mnot\u001b[39;00m \u001b[39min\u001b[39;00m req:\n\u001b[1;32m    871\u001b[0m     \u001b[39m# Oops, the \"best\" so far conflicts with a dependency\u001b[39;00m\n\u001b[1;32m    872\u001b[0m     dependent_req \u001b[39m=\u001b[39m required_by[req]\n\u001b[0;32m--> 873\u001b[0m     \u001b[39mraise\u001b[39;00m VersionConflict(dist, req)\u001b[39m.\u001b[39mwith_context(dependent_req)\n\u001b[1;32m    874\u001b[0m \u001b[39mreturn\u001b[39;00m dist\n",
      "\u001b[0;31mContextualVersionConflict\u001b[0m: (numexpr 2.8.3 (/opt/conda/lib/python3.10/site-packages), Requirement.parse('numexpr<3.0.0,>=2.8.4'), {'langchain'})"
     ]
    }
   ],
   "source": [
    "import pkg_resources\n",
    "package_name = \"createtoolagi\"  \n",
    "pkg = pkg_resources.get_distribution(package_name)\n",
    "print(pkg.version)"
   ]
  },
  {
   "cell_type": "markdown",
   "metadata": {},
   "source": [
    "## Normal GPT-4"
   ]
  },
  {
   "cell_type": "code",
   "execution_count": 6,
   "metadata": {},
   "outputs": [],
   "source": [
    "from langchain.llms import OpenAI\n",
    "\n",
    "gpt4 = OpenAI(temperature=0, model_name = 'gpt-4')\n",
    "gpt35_turbo = OpenAI(temperature=0, model_name = 'gpt-3.5-turbo')"
   ]
  },
  {
   "cell_type": "code",
   "execution_count": 12,
   "metadata": {},
   "outputs": [],
   "source": [
    "input = 'What is the sum of the prime numbers from 1 to 100000?'"
   ]
  },
  {
   "cell_type": "code",
   "execution_count": 11,
   "metadata": {},
   "outputs": [],
   "source": [
    "input = \"\"\"\n",
    "survived,pclass,sex,age,sibsp,parch,fare,embarked,class,who,adult_male,deck,embark_town,alive,alone\n",
    "0,2,male,52.0,0,0,13.0,S,Second,man,True,,Southampton,no,True\n",
    "0,3,male,,0,0,7.25,S,Third,man,True,,Southampton,no,True\n",
    "0,3,male,,0,0,7.8958,S,Third,man,True,,Southampton,no,True\n",
    "0,3,female,18.0,0,0,7.775,S,Third,woman,False,,Southampton,no,True\n",
    "1,3,female,16.0,0,0,7.75,Q,Third,woman,False,,Queenstown,yes,True\n",
    "0,2,male,19.0,1,1,36.75,S,Second,man,True,,Southampton,no,False\n",
    "0,3,male,28.0,0,0,56.4958,S,Third,man,True,,Southampton,no,True\n",
    "1,1,female,53.0,2,0,51.4792,S,First,woman,False,C,Southampton,yes,False\n",
    "1,3,female,4.0,0,1,13.4167,C,Third,child,False,,Cherbourg,yes,False\n",
    "1,3,male,32.0,0,0,7.925,S,Third,man,True,,Southampton,yes,True\n",
    "0,2,male,23.0,0,0,13.0,S,Second,man,True,,Southampton,no,True\n",
    "0,3,male,,0,0,7.8958,S,Third,man,True,,Southampton,no,True\n",
    "0,1,female,25.0,1,2,151.55,S,First,woman,False,C,Southampton,no,False\n",
    "1,3,male,20.0,0,0,7.2292,C,Third,man,True,,Cherbourg,yes,True\n",
    "0,3,male,19.0,0,0,7.65,S,Third,man,True,F,Southampton,no,True\n",
    "0,3,male,39.0,0,0,24.15,S,Third,man,True,,Southampton,no,True\n",
    "1,3,male,32.0,0,0,56.4958,S,Third,man,True,,Southampton,yes,True\n",
    "0,2,male,39.0,0,0,13.0,S,Second,man,True,,Southampton,no,True\n",
    "1,1,female,31.0,0,2,164.8667,S,First,woman,False,C,Southampton,yes,False\n",
    "1,3,male,20.0,1,0,7.925,S,Third,man,True,,Southampton,yes,False\n",
    "0,3,male,,0,0,8.05,S,Third,man,True,,Southampton,no,True\n",
    "0,3,male,51.0,0,0,7.0542,S,Third,man,True,,Southampton,no,True\n",
    "1,3,female,18.0,0,0,9.8417,S,Third,woman,False,,Southampton,yes,True\n",
    "1,1,male,49.0,1,0,89.1042,C,First,man,True,C,Cherbourg,yes,False\n",
    "1,1,female,24.0,3,2,263.0,S,First,woman,False,C,Southampton,yes,False\n",
    "1,1,female,30.0,0,0,93.5,S,First,woman,False,B,Southampton,yes,True\n",
    "0,3,female,,8,2,69.55,S,Third,woman,False,,Southampton,no,False\n",
    "0,1,male,,0,0,0.0,S,First,man,True,B,Southampton,no,True\n",
    "0,2,male,21.0,1,0,11.5,S,Second,man,True,,Southampton,no,False\n",
    "1,3,female,,1,0,16.1,S,Third,woman,False,,Southampton,yes,False\n",
    "1,1,male,35.0,0,0,512.3292,C,First,man,True,B,Cherbourg,yes,True\n",
    "0,3,male,38.0,0,0,8.6625,S,Third,man,True,,Southampton,no,True\n",
    "0,3,female,28.0,0,0,7.8958,S,Third,woman,False,,Southampton,no,True\n",
    "1,3,male,,0,0,7.2292,C,Third,man,True,,Cherbourg,yes,True\n",
    "1,1,female,39.0,1,1,110.8833,C,First,woman,False,C,Cherbourg,yes,False\n",
    "1,2,female,25.0,0,1,26.0,S,Second,woman,False,,Southampton,yes,False\n",
    "1,2,female,50.0,0,0,10.5,S,Second,woman,False,,Southampton,yes,True\n",
    "0,1,male,38.0,0,0,0.0,S,First,man,True,,Southampton,no,True\n",
    "0,1,male,65.0,0,1,61.9792,C,First,man,True,B,Cherbourg,no,False\n",
    "0,1,male,47.0,0,0,52.0,S,First,man,True,C,Southampton,no,True\n",
    "0,3,male,17.0,1,0,7.0542,S,Third,man,True,,Southampton,no,False\n",
    "0,3,male,,0,0,7.225,C,Third,man,True,,Cherbourg,no,True\n",
    "0,2,male,35.0,0,0,26.0,S,Second,man,True,,Southampton,no,True\n",
    "0,3,male,42.0,0,0,7.55,S,Third,man,True,,Southampton,no,True\n",
    "0,3,male,30.0,0,0,7.225,C,Third,man,True,,Cherbourg,no,True\n",
    "0,3,male,,0,0,8.4583,Q,Third,man,True,,Queenstown,no,True\n",
    "1,1,female,24.0,0,0,83.1583,C,First,woman,False,C,Cherbourg,yes,True\n",
    "0,3,male,20.0,0,0,7.8542,S,Third,man,True,,Southampton,no,True\n",
    "0,3,male,21.0,0,0,7.8542,S,Third,man,True,,Southampton,no,True\n",
    "1,3,female,24.0,1,0,15.85,S,Third,woman,False,,Southampton,yes,False\n",
    "0,1,male,40.0,0,0,0.0,S,First,man,True,B,Southampton,no,True\n",
    "1,3,male,4.0,1,1,11.1333,S,Third,child,False,,Southampton,yes,False\n",
    "0,3,male,44.0,0,0,8.05,S,Third,man,True,,Southampton,no,True\n",
    "0,3,male,27.0,0,0,7.8958,S,Third,man,True,,Southampton,no,True\n",
    "0,3,male,,0,0,8.05,S,Third,man,True,,Southampton,no,True\n",
    "0,3,male,25.0,0,0,7.05,S,Third,man,True,,Southampton,no,True\n",
    "1,2,female,13.0,0,1,19.5,S,Second,child,False,,Southampton,yes,False\n",
    "1,3,female,5.0,2,1,19.2583,C,Third,child,False,,Cherbourg,yes,False\n",
    "1,1,male,23.0,0,1,63.3583,C,First,man,True,D,Cherbourg,yes,False\n",
    "0,3,male,25.0,0,0,7.225,C,Third,man,True,,Cherbourg,no,True\n",
    "1,3,male,0.42,0,1,8.5167,C,Third,child,False,,Cherbourg,yes,False\n",
    "0,3,male,,0,0,7.8958,S,Third,man,True,,Southampton,no,True\n",
    "1,3,male,19.0,0,0,8.05,S,Third,man,True,,Southampton,yes,True\n",
    "0,3,male,24.0,0,0,8.05,S,Third,man,True,,Southampton,no,True\n",
    "0,3,male,,1,0,19.9667,S,Third,man,True,,Southampton,no,False\n",
    "0,3,male,29.0,0,0,7.775,S,Third,man,True,,Southampton,no,True\n",
    "0,3,male,,0,0,7.225,C,Third,man,True,,Cherbourg,no,True\n",
    "0,1,male,52.0,1,1,79.65,S,First,man,True,E,Southampton,no,False\n",
    "0,1,male,54.0,0,1,77.2875,S,First,man,True,D,Southampton,no,False\n",
    "0,3,male,,0,0,14.5,S,Third,man,True,,Southampton,no,True\n",
    "1,1,male,,0,0,30.0,S,First,man,True,D,Southampton,yes,True\n",
    "0,3,male,26.0,0,0,7.8875,S,Third,man,True,,Southampton,no,True\n",
    "0,1,male,42.0,1,0,52.0,S,First,man,True,,Southampton,no,False\n",
    "0,3,male,41.0,0,0,7.125,S,Third,man,True,,Southampton,no,True\n",
    "1,3,male,32.0,0,0,8.05,S,Third,man,True,E,Southampton,yes,True\n",
    "0,2,male,,0,0,0.0,S,Second,man,True,,Southampton,no,True\n",
    "1,2,female,24.0,1,0,26.0,S,Second,woman,False,,Southampton,yes,False\n",
    "0,3,male,22.0,0,0,7.7958,S,Third,man,True,,Southampton,no,True\n",
    "0,2,male,25.0,0,0,13.0,S,Second,man,True,,Southampton,no,True\n",
    "0,3,male,22.0,0,0,8.05,S,Third,man,True,,Southampton,no,True\n",
    "1,2,female,50.0,0,0,10.5,S,Second,woman,False,,Southampton,yes,True\n",
    "0,3,male,24.0,0,0,7.4958,S,Third,man,True,,Southampton,no,True\n",
    "1,1,female,60.0,1,0,75.25,C,First,woman,False,D,Cherbourg,yes,False\n",
    "0,3,male,16.0,0,0,9.2167,S,Third,man,True,,Southampton,no,True\n",
    "0,3,male,,0,0,7.8958,S,Third,man,True,,Southampton,no,True\n",
    "0,3,female,,0,0,7.6292,Q,Third,woman,False,,Queenstown,no,True\n",
    "0,3,female,9.0,3,2,27.9,S,Third,child,False,,Southampton,no,False\n",
    "0,1,male,,0,0,26.0,S,First,man,True,A,Southampton,no,True\n",
    "0,3,female,9.0,2,2,34.375,S,Third,child,False,,Southampton,no,False\n",
    "0,3,male,,0,0,7.8958,S,Third,man,True,,Southampton,no,True\n",
    "0,3,male,28.5,0,0,16.1,S,Third,man,True,,Southampton,no,True\n",
    "0,3,male,,0,0,7.75,Q,Third,man,True,,Queenstown,no,True\n",
    "1,2,female,32.5,0,0,13.0,S,Second,woman,False,E,Southampton,yes,True\n",
    "0,2,male,18.0,0,0,11.5,S,Second,man,True,,Southampton,no,True\n",
    "0,3,male,30.0,0,0,8.05,S,Third,man,True,,Southampton,no,True\n",
    "0,3,male,,0,0,8.05,S,Third,man,True,,Southampton,no,True\n",
    "1,3,male,25.0,0,0,0.0,S,Third,man,True,,Southampton,yes,True\n",
    "0,3,female,2.0,4,2,31.275,S,Third,child,False,,Southampton,no,False\n",
    "0,3,male,29.0,0,0,8.05,S,Third,man,True,,Southampton,no,True\n",
    "0,3,male,29.0,0,0,7.875,S,Third,man,True,,Southampton,no,True\n",
    "------------------\n",
    "Answer between 0~1 what happened to the \"SURVIVED\" of the following people when the above data was available.\n",
    "Output should be numeric only.\n",
    "------------------\n",
    "pclass,sex,age,sibsp,parch,fare,embarked,class,who,adult_male,deck,embark_town,alive,alone\n",
    "2,male,27.0,0,0,13.0,S,Second,man,True,,Southampton,no,True\n",
    "\"\"\""
   ]
  },
  {
   "cell_type": "code",
   "execution_count": 12,
   "metadata": {},
   "outputs": [
    {
     "data": {
      "text/plain": [
       "'0'"
      ]
     },
     "execution_count": 12,
     "metadata": {},
     "output_type": "execute_result"
    }
   ],
   "source": [
    "gpt4(input)"
   ]
  },
  {
   "cell_type": "code",
   "execution_count": 16,
   "metadata": {},
   "outputs": [
    {
     "data": {
      "text/plain": [
       "\"We can use a sieve to find all the prime numbers from 1 to 100000. Then, we can add them up to find the sum.\\n\\nHere's the Python code to implement the sieve:\\n\\n```python\\ndef sieve(n):\\n    primes = [True] * (n+1)\\n    primes[0] = primes[1] = False\\n    for i in range(2, int(n**0.5)+1):\\n        if primes[i]:\\n            for j in range(i*i, n+1, i):\\n                primes[j] = False\\n    return [i for i in range(n+1) if primes[i]]\\n```\\n\\nUsing this function, we can find all the prime numbers from 1 to 100000:\\n\\n```python\\nprimes = sieve(100000)\\n```\\n\\nNow, we just need to add them up:\\n\\n```python\\nsum_of_primes = sum(primes)\\n```\\n\\nThe answer is:\\n\\n```\\nsum_of_primes = 454396537\\n```\""
      ]
     },
     "execution_count": 16,
     "metadata": {},
     "output_type": "execute_result"
    }
   ],
   "source": [
    "gpt35_turbo(input)"
   ]
  },
  {
   "cell_type": "markdown",
   "metadata": {},
   "source": [
    "## CreateTool-AGI"
   ]
  },
  {
   "cell_type": "code",
   "execution_count": 2,
   "metadata": {},
   "outputs": [],
   "source": [
    "from createtoolagi import CTAGI\n",
    "\n",
    "#base_model_name = 'gpt-4'\n",
    "base_model_name = 'gpt-3.5-turbo'\n",
    "create_model_name = 'gpt-4'\n",
    "embegging_model_name = 'text-embedding-ada-002'\n",
    "\n",
    "ctagi = CTAGI(\n",
    "    base_model_name=base_model_name, \n",
    "    create_model_name=create_model_name, \n",
    "    embegging_model_name=embegging_model_name\n",
    "    )"
   ]
  },
  {
   "cell_type": "code",
   "execution_count": 3,
   "metadata": {},
   "outputs": [
    {
     "name": "stdout",
     "output_type": "stream",
     "text": [
      "> Generalize the input task.\n",
      "\u001b[32mGeneralized Task：What is the sum of the prime numbers from A to B?\n",
      "\u001b[0m\n",
      "> Search tools.\n",
      "\u001b[32mSearch results：\n",
      "[]\n",
      "\u001b[0m\n",
      "> Decide if the task is executable.\n",
      "Response：Sorry, I cannot answer this question without additional information. Please provide the values of A and B.\n",
      "\u001b[32mI must create the tool before executing.\n",
      "\u001b[0m\n",
      "Try:1\n",
      "> Create a tool.\n",
      "\u001b[32mCompleted!\n",
      "Created tool name：PrimeSumTool\n",
      "\u001b[0m\n",
      "> Execute the task with the tool you created.\n",
      "\n",
      "\n",
      "\u001b[1m> Entering new AgentExecutor chain...\u001b[0m\n",
      "\u001b[32;1m\u001b[1;3mI need to use the PrimeSumTool to calculate the sum of prime numbers between 1 and 100000.\n",
      "Action: PrimeSumTool\n",
      "Action Input: 1,100000\u001b[0m\n",
      "Observation: \u001b[36;1m\u001b[1;3m454396537\u001b[0m\n",
      "Thought:\u001b[32;1m\u001b[1;3mThat's the sum of prime numbers between 1 and 100000.\n",
      "Final Answer: 454396537.\u001b[0m\n",
      "\n",
      "\u001b[1m> Finished chain.\u001b[0m\n",
      "> Save a tool.\n"
     ]
    }
   ],
   "source": [
    "input = 'What is the sum of the prime numbers from 1 to 100000?'\n",
    "\n",
    "ctagi.run(input=input)"
   ]
  },
  {
   "cell_type": "code",
   "execution_count": 4,
   "metadata": {},
   "outputs": [
    {
     "name": "stdout",
     "output_type": "stream",
     "text": [
      "> Generalize the input task.\n",
      "\u001b[32mGeneralized Task：What is the sum of the prime numbers from A to B?\n",
      "\u001b[0m\n",
      "> Search tools.\n",
      "\u001b[32mSearch results：\n",
      "[ScoredPoint(id=1, version=0, score=0.8855925166803104, payload={'description': \"used for calculating the sum of prime numbers from A to B. The input is two numbers separated by a comma. For example, if you want to find the sum of prime numbers between 1 and 10, the input is '1,10'.\", 'code': 'from langchain.tools import BaseTool\\n\\nclass PrimeSumTool(BaseTool):\\n    name = \"PrimeSumTool\"\\n    description = \"used for calculating the sum of prime numbers from A to B. The input is two numbers separated by a comma. For example, if you want to find the sum of prime numbers between 1 and 10, the input is \\'1,10\\'.\"\\n\\n    def is_prime(self, num: int) -> bool:\\n        if num < 2:\\n            return False\\n        for i in range(2, num):\\n            if num % i == 0:\\n                return False\\n        return True\\n\\n    def _run(self, query: str) -> str:\\n        \"Use the tool.\"\\n        a, b = query.split(\",\")\\n        a, b = int(a), int(b)\\n        prime_sum = sum([i for i in range(a, b + 1) if self.is_prime(i)])\\n        result = prime_sum\\n\\n        return result\\n\\n    async def _arun(self, query: str) -> str:\\n        \"Use the tool asynchronously.\"\\n        raise NotImplementedError(\"PrimeSumTool does not support async\")', 'tool_name': 'PrimeSumTool'}, vector=None)]\n",
      "\u001b[0m\n",
      "> Decide if the task is executable.\n",
      "Response：Yes.\n",
      "\u001b[32mI do not need to create a tool to run it.\n",
      "\u001b[0m\n",
      "> Execute the task.\n",
      "\n",
      "\n",
      "\u001b[1m> Entering new AgentExecutor chain...\u001b[0m\n",
      "\u001b[32;1m\u001b[1;3mI need to use the PrimeSumTool to calculate the sum of prime numbers between 1 and 100000.\n",
      "Action: PrimeSumTool\n",
      "Action Input: 1,100000\u001b[0m\n",
      "Observation: \u001b[36;1m\u001b[1;3m454396537\u001b[0m\n",
      "Thought:\u001b[32;1m\u001b[1;3mThat's the sum of prime numbers between 1 and 100000.\n",
      "Final Answer: 454396537\u001b[0m\n",
      "\n",
      "\u001b[1m> Finished chain.\u001b[0m\n"
     ]
    }
   ],
   "source": [
    "ctagi.run(input=input)"
   ]
  },
  {
   "cell_type": "code",
   "execution_count": null,
   "metadata": {},
   "outputs": [],
   "source": []
  }
 ],
 "metadata": {
  "kernelspec": {
   "display_name": "Python 3.10.9 ('base')",
   "language": "python",
   "name": "python3"
  },
  "language_info": {
   "codemirror_mode": {
    "name": "ipython",
    "version": 3
   },
   "file_extension": ".py",
   "mimetype": "text/x-python",
   "name": "python",
   "nbconvert_exporter": "python",
   "pygments_lexer": "ipython3",
   "version": "3.10.9"
  },
  "orig_nbformat": 4,
  "vscode": {
   "interpreter": {
    "hash": "d4d1e4263499bec80672ea0156c357c1ee493ec2b1c70f0acce89fc37c4a6abe"
   }
  }
 },
 "nbformat": 4,
 "nbformat_minor": 2
}
