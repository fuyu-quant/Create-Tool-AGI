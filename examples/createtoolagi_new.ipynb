{
 "cells": [
  {
   "cell_type": "markdown",
   "metadata": {},
   "source": [
    "# CreateTool-AGI"
   ]
  },
  {
   "cell_type": "markdown",
   "metadata": {},
   "source": [
    "[![Open In Colab](https://colab.research.google.com/assets/colab-badge.svg)](https://colab.research.google.com/github/fuyu-quant/CreateTool-AGI/blob/main/examples/createtoolagi_new.ipynb)"
   ]
  },
  {
   "cell_type": "code",
   "execution_count": 2,
   "metadata": {},
   "outputs": [],
   "source": [
    "%%capture\n",
    "!pip install git+https://github.com/fuyu-quant/CreateTool-AGI.git"
   ]
  },
  {
   "cell_type": "code",
   "execution_count": 4,
   "metadata": {},
   "outputs": [],
   "source": [
    "!rm -r ./tools"
   ]
  },
  {
   "cell_type": "code",
   "execution_count": null,
   "metadata": {},
   "outputs": [],
   "source": [
    "from createtoolagi import CTAGI\n",
    "\n",
    "import os\n",
    "os.environ[\"OPENAI_API_KEY\"] = \"YOUR_API_KEY\""
   ]
  },
  {
   "cell_type": "code",
   "execution_count": 1,
   "metadata": {},
   "outputs": [
    {
     "name": "stdout",
     "output_type": "stream",
     "text": [
      "0.3.0\n"
     ]
    }
   ],
   "source": [
    "import pkg_resources\n",
    "package_name = \"createtoolagi\"  \n",
    "pkg = pkg_resources.get_distribution(package_name)\n",
    "print(pkg.version)"
   ]
  },
  {
   "cell_type": "markdown",
   "metadata": {},
   "source": [
    "## Normal GPT-4"
   ]
  },
  {
   "cell_type": "code",
   "execution_count": 11,
   "metadata": {},
   "outputs": [],
   "source": [
    "from langchain.llms import OpenAI\n",
    "\n",
    "gpt4 = OpenAI(temperature=0, model_name = 'gpt-4')\n",
    "gpt35_turbo = OpenAI(temperature=0, model_name = 'gpt-3.5-turbo')"
   ]
  },
  {
   "cell_type": "code",
   "execution_count": 12,
   "metadata": {},
   "outputs": [],
   "source": [
    "input = 'What is the sum of the prime numbers from 1 to 100000?'"
   ]
  },
  {
   "cell_type": "code",
   "execution_count": 13,
   "metadata": {},
   "outputs": [
    {
     "data": {
      "text/plain": [
       "'The sum of the prime numbers from 1 to 100000 is 454396537.'"
      ]
     },
     "execution_count": 13,
     "metadata": {},
     "output_type": "execute_result"
    }
   ],
   "source": [
    "gpt4(input)"
   ]
  },
  {
   "cell_type": "code",
   "execution_count": 16,
   "metadata": {},
   "outputs": [
    {
     "data": {
      "text/plain": [
       "\"We can use a sieve to find all the prime numbers from 1 to 100000. Then, we can add them up to find the sum.\\n\\nHere's the Python code to implement the sieve:\\n\\n```python\\ndef sieve(n):\\n    primes = [True] * (n+1)\\n    primes[0] = primes[1] = False\\n    for i in range(2, int(n**0.5)+1):\\n        if primes[i]:\\n            for j in range(i*i, n+1, i):\\n                primes[j] = False\\n    return [i for i in range(n+1) if primes[i]]\\n```\\n\\nUsing this function, we can find all the prime numbers from 1 to 100000:\\n\\n```python\\nprimes = sieve(100000)\\n```\\n\\nNow, we just need to add them up:\\n\\n```python\\nsum_of_primes = sum(primes)\\n```\\n\\nThe answer is:\\n\\n```\\nsum_of_primes = 454396537\\n```\""
      ]
     },
     "execution_count": 16,
     "metadata": {},
     "output_type": "execute_result"
    }
   ],
   "source": [
    "gpt35_turbo(input)"
   ]
  },
  {
   "cell_type": "markdown",
   "metadata": {},
   "source": [
    "## CreateTool-AGI"
   ]
  },
  {
   "cell_type": "code",
   "execution_count": 2,
   "metadata": {},
   "outputs": [],
   "source": [
    "from createtoolagi import CTAGI\n",
    "\n",
    "#base_model_name = 'gpt-4'\n",
    "base_model_name = 'gpt-3.5-turbo'\n",
    "create_model_name = 'gpt-4'\n",
    "embegging_model_name = 'text-embedding-ada-002'\n",
    "\n",
    "ctagi = CTAGI(\n",
    "    base_model_name=base_model_name, \n",
    "    create_model_name=create_model_name, \n",
    "    embegging_model_name=embegging_model_name\n",
    "    )"
   ]
  },
  {
   "cell_type": "code",
   "execution_count": 3,
   "metadata": {},
   "outputs": [
    {
     "name": "stdout",
     "output_type": "stream",
     "text": [
      "> Generalize the input task.\n",
      "\u001b[32mGeneralized Task：What is the sum of the prime numbers from A to B?\n",
      "\u001b[0m\n",
      "> Search tools.\n",
      "\u001b[32mSearch results：\n",
      "[]\n",
      "\u001b[0m\n",
      "> Decide if the task is executable.\n",
      "Response：Sorry, I cannot answer this question without additional information. Please provide the values of A and B.\n",
      "\u001b[32mI must create the tool before executing.\n",
      "\u001b[0m\n",
      "Try:1\n",
      "> Create a tool.\n",
      "\u001b[32mCompleted!\n",
      "Created tool name：PrimeSumTool\n",
      "\u001b[0m\n",
      "> Execute the task with the tool you created.\n",
      "\n",
      "\n",
      "\u001b[1m> Entering new AgentExecutor chain...\u001b[0m\n",
      "\u001b[32;1m\u001b[1;3mI need to use the PrimeSumTool to calculate the sum of prime numbers between 1 and 100000.\n",
      "Action: PrimeSumTool\n",
      "Action Input: 1,100000\u001b[0m\n",
      "Observation: \u001b[36;1m\u001b[1;3m454396537\u001b[0m\n",
      "Thought:\u001b[32;1m\u001b[1;3mThat's the sum of prime numbers between 1 and 100000.\n",
      "Final Answer: 454396537.\u001b[0m\n",
      "\n",
      "\u001b[1m> Finished chain.\u001b[0m\n",
      "> Save a tool.\n"
     ]
    }
   ],
   "source": [
    "input = 'What is the sum of the prime numbers from 1 to 100000?'\n",
    "\n",
    "ctagi.run(input=input)"
   ]
  },
  {
   "cell_type": "code",
   "execution_count": 4,
   "metadata": {},
   "outputs": [
    {
     "name": "stdout",
     "output_type": "stream",
     "text": [
      "> Generalize the input task.\n",
      "\u001b[32mGeneralized Task：What is the sum of the prime numbers from A to B?\n",
      "\u001b[0m\n",
      "> Search tools.\n",
      "\u001b[32mSearch results：\n",
      "[ScoredPoint(id=1, version=0, score=0.8855925166803104, payload={'description': \"used for calculating the sum of prime numbers from A to B. The input is two numbers separated by a comma. For example, if you want to find the sum of prime numbers between 1 and 10, the input is '1,10'.\", 'code': 'from langchain.tools import BaseTool\\n\\nclass PrimeSumTool(BaseTool):\\n    name = \"PrimeSumTool\"\\n    description = \"used for calculating the sum of prime numbers from A to B. The input is two numbers separated by a comma. For example, if you want to find the sum of prime numbers between 1 and 10, the input is \\'1,10\\'.\"\\n\\n    def is_prime(self, num: int) -> bool:\\n        if num < 2:\\n            return False\\n        for i in range(2, num):\\n            if num % i == 0:\\n                return False\\n        return True\\n\\n    def _run(self, query: str) -> str:\\n        \"Use the tool.\"\\n        a, b = query.split(\",\")\\n        a, b = int(a), int(b)\\n        prime_sum = sum([i for i in range(a, b + 1) if self.is_prime(i)])\\n        result = prime_sum\\n\\n        return result\\n\\n    async def _arun(self, query: str) -> str:\\n        \"Use the tool asynchronously.\"\\n        raise NotImplementedError(\"PrimeSumTool does not support async\")', 'tool_name': 'PrimeSumTool'}, vector=None)]\n",
      "\u001b[0m\n",
      "> Decide if the task is executable.\n",
      "Response：Yes.\n",
      "\u001b[32mI do not need to create a tool to run it.\n",
      "\u001b[0m\n",
      "> Execute the task.\n",
      "\n",
      "\n",
      "\u001b[1m> Entering new AgentExecutor chain...\u001b[0m\n",
      "\u001b[32;1m\u001b[1;3mI need to use the PrimeSumTool to calculate the sum of prime numbers between 1 and 100000.\n",
      "Action: PrimeSumTool\n",
      "Action Input: 1,100000\u001b[0m\n",
      "Observation: \u001b[36;1m\u001b[1;3m454396537\u001b[0m\n",
      "Thought:\u001b[32;1m\u001b[1;3mThat's the sum of prime numbers between 1 and 100000.\n",
      "Final Answer: 454396537\u001b[0m\n",
      "\n",
      "\u001b[1m> Finished chain.\u001b[0m\n"
     ]
    }
   ],
   "source": [
    "ctagi.run(input=input)"
   ]
  },
  {
   "cell_type": "code",
   "execution_count": null,
   "metadata": {},
   "outputs": [],
   "source": []
  }
 ],
 "metadata": {
  "kernelspec": {
   "display_name": "Python 3.10.9 ('base')",
   "language": "python",
   "name": "python3"
  },
  "language_info": {
   "codemirror_mode": {
    "name": "ipython",
    "version": 3
   },
   "file_extension": ".py",
   "mimetype": "text/x-python",
   "name": "python",
   "nbconvert_exporter": "python",
   "pygments_lexer": "ipython3",
   "version": "3.10.9"
  },
  "orig_nbformat": 4,
  "vscode": {
   "interpreter": {
    "hash": "d4d1e4263499bec80672ea0156c357c1ee493ec2b1c70f0acce89fc37c4a6abe"
   }
  }
 },
 "nbformat": 4,
 "nbformat_minor": 2
}
