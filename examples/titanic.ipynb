{
 "cells": [
  {
   "cell_type": "markdown",
   "metadata": {},
   "source": [
    "## Validation on titanic dataset"
   ]
  },
  {
   "cell_type": "markdown",
   "metadata": {},
   "source": [
    "[![Open In Colab](https://colab.research.google.com/assets/colab-badge.svg)](https://colab.research.google.com/github/fuyu-quant/CreateTool-AGI/blob/main/examples/titanic.ipynb)"
   ]
  },
  {
   "cell_type": "code",
   "execution_count": 1,
   "metadata": {},
   "outputs": [],
   "source": [
    "%%capture\n",
    "!pip install git+https://github.com/fuyu-quant/CreateTool-AGI.git"
   ]
  },
  {
   "cell_type": "code",
   "execution_count": 2,
   "metadata": {},
   "outputs": [
    {
     "name": "stdout",
     "output_type": "stream",
     "text": [
      "1.1.1\n"
     ]
    }
   ],
   "source": [
    "from createtoolagi import CTAGI\n",
    "\n",
    "#import os\n",
    "#os.environ[\"OPENAI_API_KEY\"] = \"YOUR_API_KEY\"\n",
    "\n",
    "import pkg_resources\n",
    "package_name = \"createtoolagi\"  \n",
    "pkg = pkg_resources.get_distribution(package_name)\n",
    "print(pkg.version)"
   ]
  },
  {
   "cell_type": "markdown",
   "metadata": {},
   "source": [
    "## Prepare training data"
   ]
  },
  {
   "cell_type": "code",
   "execution_count": 12,
   "metadata": {},
   "outputs": [],
   "source": [
    "import csv\n",
    "\n",
    "data_set = ''\n",
    "with open('../data/learning.csv', 'r') as file:\n",
    "    reader = csv.reader(file)\n",
    "    for row in reader:\n",
    "        data_set += ','.join(row) + '\\n'\n"
   ]
  },
  {
   "cell_type": "code",
   "execution_count": 13,
   "metadata": {},
   "outputs": [],
   "source": [
    "training_data = \"\"\"\n",
    "{data_set_}\n",
    "------------------\n",
    "・Given the above data, predict \"survived\" using \"pclass,sex,age,sibsp,arch,fare,embarked,class,who,adult_male,deck,embark_town,alive,alone\" \n",
    "as input values between 0 and 1. \n",
    "・Predict the value of \"survived\" between 0 and 1. \n",
    "・Please write \"used for prediction.The input is a comma-separated string.For example, it receives inputs such as '2,male,27.0,0,0,13.0,S,Second,man,True,,Southampton,no,True'.\" in the description of the code to be created.\n",
    "・The input data should be character strings as follows.\n",
    "------------------\n",
    "2,male,52.0,0,0,13.0,S,Second,man,True,,Southampton,no,True\n",
    "\"\"\".format(data_set_ = data_set)"
   ]
  },
  {
   "cell_type": "code",
   "execution_count": 14,
   "metadata": {},
   "outputs": [],
   "source": [
    "validation_data = \"Predict 'survived' based on the following data.2,male,27.0,0,0,13.0,S,Second,man,True,,Southampton,no,True\""
   ]
  },
  {
   "cell_type": "markdown",
   "metadata": {},
   "source": [
    "## Normal GPT-4"
   ]
  },
  {
   "cell_type": "code",
   "execution_count": 21,
   "metadata": {},
   "outputs": [],
   "source": [
    "from langchain.llms import OpenAI\n",
    "\n",
    "gpt4 = OpenAI(temperature=0, model_name = 'gpt-4')"
   ]
  },
  {
   "cell_type": "code",
   "execution_count": 22,
   "metadata": {},
   "outputs": [
    {
     "data": {
      "text/plain": [
       "'0'"
      ]
     },
     "execution_count": 22,
     "metadata": {},
     "output_type": "execute_result"
    }
   ],
   "source": [
    "gpt4(input)"
   ]
  },
  {
   "cell_type": "markdown",
   "metadata": {},
   "source": [
    "## CreateTool-AGI"
   ]
  },
  {
   "cell_type": "code",
   "execution_count": 237,
   "metadata": {},
   "outputs": [],
   "source": [
    "!rm -r ../tools/titanic"
   ]
  },
  {
   "cell_type": "code",
   "execution_count": 6,
   "metadata": {},
   "outputs": [],
   "source": [
    "from createtoolagi import CTAGI\n",
    "\n",
    "from qdrant_client import QdrantClient\n",
    "from qdrant_client import models\n",
    "\n",
    "base_model_name = 'gpt-4'\n",
    "#base_model_name = 'gpt-3.5-turbo'\n",
    "create_model_name = 'gpt-4'\n",
    "embegging_model_name = 'text-embedding-ada-002'\n",
    "\n",
    "qdrant = QdrantClient(path='../tools/titanic')\n",
    "qdrant.create_collection(collection_name =\"tool_store\", vectors_config=models.VectorParams(size=1536, distance=models.Distance.COSINE))\n",
    "\n",
    "ctagi = CTAGI(\n",
    "    base_model_name=base_model_name, \n",
    "    create_model_name=create_model_name, \n",
    "    embegging_model_name=embegging_model_name,\n",
    "    qdrant=qdrant\n",
    "    )"
   ]
  },
  {
   "cell_type": "code",
   "execution_count": 16,
   "metadata": {},
   "outputs": [
    {
     "name": "stdout",
     "output_type": "stream",
     "text": [
      "> Search tools.\n",
      "\u001b[32mSearch results：\n",
      "[ScoredPoint(id=1, version=0, score=0.7945618846752237, payload={'description': 'Predicts survival based on input data. The input is a string with values separated by commas.', 'code': 'from langchain.tools import BaseTool\\n\\nclass SurvivalPredictionTool(BaseTool):\\n    name = \"SurvivalPredictionTool\"\\n    description = \"Predicts survival based on input data. The input is a string with values separated by commas.\"\\n\\n    def _run(self, query: str) -> float:\\n        \"Use the tool.\"\\n        pclass, sex, age, sibsp, parch, fare, embarked, _class, who, adult_male, deck, embark_town, alive, alone = query.split(\",\")\\n\\n        # Convert string values to numerical values\\n        pclass = int(pclass)\\n        sex = 1 if sex == \"male\" else 0\\n        age = float(age) if age else 0\\n        sibsp = int(sibsp)\\n        parch = int(parch)\\n        fare = float(fare)\\n        embarked = {\"S\": 0, \"C\": 1, \"Q\": 2}.get(embarked, 0)\\n        _class = {\"First\": 1, \"Second\": 2, \"Third\": 3}.get(_class, 0)\\n        who = {\"man\": 1, \"woman\": 2, \"child\": 3}.get(who, 0)\\n        adult_male = 1 if adult_male == \"True\" else 0\\n        deck = ord(deck) - ord(\"A\") + 1 if deck else 0\\n        embark_town = {\"Southampton\": 0, \"Cherbourg\": 1, \"Queenstown\": 2}.get(embark_town, 0)\\n        alive = 1 if alive == \"yes\" else 0\\n        alone = 1 if alone == \"True\" else 0\\n\\n        # Calculate survival score\\n        score = 0\\n        score += pclass * 0.1\\n        score += sex * 0.3\\n        score += age * 0.01\\n        score += sibsp * 0.05\\n        score += parch * 0.05\\n        score += fare * 0.001\\n        score += embarked * 0.1\\n        score += _class * 0.1\\n        score += who * 0.1\\n        score += adult_male * 0.1\\n        score += deck * 0.01\\n        score += embark_town * 0.1\\n        score += alive * 0.5\\n        score += alone * 0.1\\n\\n        # Normalize the score between 0 and 1\\n        survival_probability = score / (1 + 0.3 + 0.01 + 0.05 + 0.05 + 0.001 + 0.1 + 0.1 + 0.1 + 0.1 + 0.01 + 0.1 + 0.5 + 0.1)\\n\\n        return survival_probability\\n\\n    async def _arun(self, query: str) -> float:\\n        \"Use the tool asynchronously.\"\\n        raise NotImplementedError(\"SurvivalPredictionTool does not support async\")', 'tool_name': 'SurvivalPredictionTool'}, vector=None)]\n",
      "\u001b[0m\n",
      "> Decide if the task is executable.\n",
      "Response：Yes.\n",
      "\u001b[32mI do not need to create a tool to run it.\n",
      "\u001b[0m\n",
      "> Execute the task.\n",
      "\n",
      "\n",
      "\u001b[1m> Entering new AgentExecutor chain...\u001b[0m\n",
      "\u001b[32;1m\u001b[1;3mI need to know the input question to answer it.\n",
      "Final Answer: Please provide the input question.\u001b[0m\n",
      "\n",
      "\u001b[1m> Finished chain.\u001b[0m\n"
     ]
    }
   ],
   "source": [
    "ctagi.run(training_data = training_data, validation_data = validation_data)"
   ]
  },
  {
   "cell_type": "markdown",
   "metadata": {},
   "source": [
    "## Predict"
   ]
  },
  {
   "cell_type": "code",
   "execution_count": null,
   "metadata": {},
   "outputs": [],
   "source": [
    "pred_data = \"3,male,32.0,0,0,7.75,Q,Third,man,True,,Queenstown,no,True\"\n",
    "\n",
    "input = \"\"\"\n",
    "Please predict the following titanic passengers.\n",
    "------------------\n",
    "pclass,sex,age,sibsp,parch,fare,embarked,class,who,adult_male,deck,embark_town,alive,alone\n",
    "{pred_data_}\n",
    "\"\"\".format(pred_data_ = pred_data)\n"
   ]
  },
  {
   "cell_type": "code",
   "execution_count": null,
   "metadata": {},
   "outputs": [],
   "source": [
    "ctagi.run(input=input)"
   ]
  },
  {
   "cell_type": "markdown",
   "metadata": {},
   "source": [
    "## Others"
   ]
  },
  {
   "cell_type": "code",
   "execution_count": 8,
   "metadata": {},
   "outputs": [],
   "source": [
    "from langchain.llms import OpenAI\n",
    "from langchain.agents import initialize_agent"
   ]
  },
  {
   "cell_type": "code",
   "execution_count": 185,
   "metadata": {},
   "outputs": [],
   "source": [
    "from langchain.tools import BaseTool\n",
    "\n",
    "class MultiplicationTool(BaseTool):\n",
    "    name = \"SurvivalPredictionTool\"\n",
    "    description = \"used for prediction.The input is a comma-separated string.\"\n",
    "\n",
    "    def _run(self, query: str) -> str:\n",
    "        \"Use the tool.\"\n",
    "        a, b = query.split(\",\")\n",
    "        c = int(a) * int(b)\n",
    "        result = c\n",
    "        return result \n",
    "\n",
    "    async def _arun(self, query: str) -> str:\n",
    "        \"Use the tool asynchronously.\"\n",
    "        raise NotImplementedError(\"MultiplicationTool does not support async\")  "
   ]
  },
  {
   "cell_type": "code",
   "execution_count": 186,
   "metadata": {},
   "outputs": [
    {
     "data": {
      "text/plain": [
       "[MultiplicationTool(name='SurvivalPredictionTool', description='used for prediction.The input is a comma-separated string.', args_schema=None, return_direct=False, verbose=False, callbacks=None, callback_manager=None)]"
      ]
     },
     "execution_count": 186,
     "metadata": {},
     "output_type": "execute_result"
    }
   ],
   "source": [
    "tools =[]\n",
    "\n",
    "MultiplicationTool = MultiplicationTool()\n",
    "tools.append(MultiplicationTool)\n",
    "\n",
    "tools"
   ]
  },
  {
   "cell_type": "code",
   "execution_count": 151,
   "metadata": {},
   "outputs": [],
   "source": [
    "validation_data = \"7 times 8\""
   ]
  },
  {
   "cell_type": "code",
   "execution_count": 152,
   "metadata": {},
   "outputs": [],
   "source": [
    "class SurvivalPredictionTool(BaseTool):\n",
    "    name = \"SurvivalPredictionTool\"\n",
    "    description = \"used for multiplication. The input is two numbers. For example, if you want to multiply 1 by 2, the input is '1,2'.\"\n",
    "    #name = \"SurvivalPredictionTool\"\n",
    "    #description = \"It is useful for predicting 'survived'\"\n",
    "\n",
    "    def _run(self, query: str) -> str:\n",
    "        \"Use the tool.\"\n",
    "        return query\n",
    "\n",
    "    async def _arun(self, query: str) -> str:\n",
    "        \"Use the tool asynchronously.\"\n",
    "        raise NotImplementedError(\"MultiplicationTool does not support async\") "
   ]
  },
  {
   "cell_type": "code",
   "execution_count": 226,
   "metadata": {},
   "outputs": [],
   "source": [
    "\n",
    "from langchain.tools import BaseTool\n",
    "\n",
    "class SurvivalPredictionTool(BaseTool):\n",
    "    name = \"SurvivalPredictionTool\"\n",
    "    description = \"used for prediction.The input is a comma-separated string.For example, it receives inputs such as '2,male,27.0,0,0,13.0,S,Second,man,True,,Southampton,no,True'.\"\n",
    "\n",
    "    def _run(self, query: str) -> str:\n",
    "        \"Use the tool.\"\n",
    "        pclass, sex, age, sibsp, parch, fare, embarked, _class, who, adult_male, deck, embark_town, alive, alone = query.split(\",\")\n",
    "\n",
    "        # Convert string values to numerical values\n",
    "        pclass = int(pclass)\n",
    "        sex = 1 if sex == \"male\" else 0\n",
    "        age = float(age) if age else 0\n",
    "        sibsp = int(sibsp)\n",
    "        parch = int(parch)\n",
    "        fare = float(fare)\n",
    "        embarked = {\"S\": 0, \"C\": 1, \"Q\": 2}.get(embarked, 0)\n",
    "        adult_male = 1 if adult_male == \"True\" else 0\n",
    "        alone = 1 if alone == \"True\" else 0\n",
    "\n",
    "        # Calculate survival score based on input values\n",
    "        survival_score = 0\n",
    "        survival_score += (1 - pclass / 3) * 0.3\n",
    "        survival_score += (1 - sex) * 0.3\n",
    "        survival_score += (1 - age / 100) * 0.1\n",
    "        survival_score += (1 - sibsp / 10) * 0.05\n",
    "        survival_score += (1 - parch / 10) * 0.05\n",
    "        survival_score += (1 - fare / 100) * 0.1\n",
    "        survival_score += (1 - embarked / 2) * 0.05\n",
    "        survival_score += (1 - adult_male) * 0.3\n",
    "        survival_score += (1 - alone) * 0.05\n",
    "\n",
    "        # Normalize survival score between 0 and 1\n",
    "        survival_score = min(max(survival_score, 0), 1)\n",
    "\n",
    "        return survival_score\n",
    "\n",
    "    async def _arun(self, query: str) -> str:\n",
    "        \"Use the tool asynchronously.\"\n",
    "        raise NotImplementedError(\"SurvivalPredictionTool does not support async\")\n"
   ]
  },
  {
   "cell_type": "code",
   "execution_count": 227,
   "metadata": {},
   "outputs": [
    {
     "data": {
      "text/plain": [
       "[SurvivalPredictionTool(name='SurvivalPredictionTool', description=\"used for prediction.The input is a comma-separated string.For example, it receives inputs such as '2,male,27.0,0,0,13.0,S,Second,man,True,,Southampton,no,True'.\", args_schema=None, return_direct=False, verbose=False, callbacks=None, callback_manager=None)]"
      ]
     },
     "execution_count": 227,
     "metadata": {},
     "output_type": "execute_result"
    }
   ],
   "source": [
    "tools =[]\n",
    "\n",
    "SurvivalPredictionTool = SurvivalPredictionTool()\n",
    "tools.append(SurvivalPredictionTool)\n",
    "\n",
    "tools"
   ]
  },
  {
   "cell_type": "code",
   "execution_count": 228,
   "metadata": {},
   "outputs": [],
   "source": [
    "validation_data = \"Please use the following character string as input data.'2,male,27.0,0,0,13.0,S,Second,man,True,,Southampton,no,True'\""
   ]
  },
  {
   "cell_type": "code",
   "execution_count": 229,
   "metadata": {},
   "outputs": [],
   "source": [
    "gpt4 = OpenAI(temperature=0, model_name = 'gpt-4')\n",
    "\n",
    "agent = initialize_agent(\n",
    "            tools = tools, \n",
    "            llm = gpt4, \n",
    "            agent=\"zero-shot-react-description\", \n",
    "            verbose=True\n",
    "            )\n"
   ]
  },
  {
   "cell_type": "code",
   "execution_count": 230,
   "metadata": {},
   "outputs": [
    {
     "name": "stdout",
     "output_type": "stream",
     "text": [
      "\n",
      "\n",
      "\u001b[1m> Entering new AgentExecutor chain...\u001b[0m\n",
      "\u001b[32;1m\u001b[1;3mI need to use the SurvivalPredictionTool to predict the survival of this individual.\n",
      "Action: SurvivalPredictionTool\n",
      "Action Input: 2,male,27.0,0,0,13.0,S,Second,man,True,,Southampton,no,True\u001b[0m\n",
      "Observation: \u001b[36;1m\u001b[1;3m0.41\u001b[0m\n",
      "Thought:\u001b[32;1m\u001b[1;3mI now know the final answer.\n",
      "Final Answer: The predicted survival probability for this individual is 0.41.\u001b[0m\n",
      "\n",
      "\u001b[1m> Finished chain.\u001b[0m\n"
     ]
    },
    {
     "data": {
      "text/plain": [
       "'The predicted survival probability for this individual is 0.41.'"
      ]
     },
     "execution_count": 230,
     "metadata": {},
     "output_type": "execute_result"
    }
   ],
   "source": [
    "agent.run(validation_data)"
   ]
  },
  {
   "cell_type": "code",
   "execution_count": 218,
   "metadata": {},
   "outputs": [],
   "source": [
    "from langchain.tools import BaseTool\n",
    "\n",
    "class MultiplicationTool(BaseTool):\n",
    "    name = \"MultiplicationTool\"\n",
    "    description = \"used for multiplication. The input is two numbers. For example, if you want to multiply 1 by 2, the input is '1,2'.\"\n",
    "\n",
    "    def _run(self, query: str) -> str:\n",
    "        \"Use the tool.\"\n",
    "        a, b = query.split(\",\")\n",
    "        c = int(a) * int(b)\n",
    "        result = c\n",
    "        return result \n",
    "\n",
    "    async def _arun(self, query: str) -> str:\n",
    "        \"Use the tool asynchronously.\"\n",
    "        raise NotImplementedError(\"MultiplicationTool does not support async\")"
   ]
  },
  {
   "cell_type": "code",
   "execution_count": 219,
   "metadata": {},
   "outputs": [
    {
     "data": {
      "text/plain": [
       "[MultiplicationTool(name='MultiplicationTool', description=\"used for multiplication. The input is two numbers. For example, if you want to multiply 1 by 2, the input is '1,2'.\", args_schema=None, return_direct=False, verbose=False, callbacks=None, callback_manager=None)]"
      ]
     },
     "execution_count": 219,
     "metadata": {},
     "output_type": "execute_result"
    }
   ],
   "source": [
    "tools =[]\n",
    "\n",
    "MultiplicationTool = MultiplicationTool()\n",
    "tools.append(MultiplicationTool)\n",
    "\n",
    "tools"
   ]
  },
  {
   "cell_type": "code",
   "execution_count": 223,
   "metadata": {},
   "outputs": [],
   "source": [
    "validation_data = \"8 times 7\""
   ]
  },
  {
   "cell_type": "code",
   "execution_count": 224,
   "metadata": {},
   "outputs": [],
   "source": [
    "gpt4 = OpenAI(temperature=0, model_name = 'gpt-4')\n",
    "\n",
    "agent = initialize_agent(\n",
    "            tools = tools, \n",
    "            llm = gpt4, \n",
    "            agent=\"zero-shot-react-description\", \n",
    "            verbose=True\n",
    "            )"
   ]
  },
  {
   "cell_type": "code",
   "execution_count": 225,
   "metadata": {},
   "outputs": [
    {
     "name": "stdout",
     "output_type": "stream",
     "text": [
      "\n",
      "\n",
      "\u001b[1m> Entering new AgentExecutor chain...\u001b[0m\n",
      "\u001b[32;1m\u001b[1;3mI need to multiply 8 by 7\n",
      "Action: MultiplicationTool\n",
      "Action Input: 8,7\u001b[0m\n",
      "Observation: \u001b[36;1m\u001b[1;3m56\u001b[0m\n",
      "Thought:\u001b[32;1m\u001b[1;3mI now know the final answer\n",
      "Final Answer: 56\u001b[0m\n",
      "\n",
      "\u001b[1m> Finished chain.\u001b[0m\n"
     ]
    },
    {
     "data": {
      "text/plain": [
       "'56'"
      ]
     },
     "execution_count": 225,
     "metadata": {},
     "output_type": "execute_result"
    }
   ],
   "source": [
    "agent.run(validation_data)"
   ]
  },
  {
   "cell_type": "code",
   "execution_count": null,
   "metadata": {},
   "outputs": [],
   "source": []
  }
 ],
 "metadata": {
  "kernelspec": {
   "display_name": "Python 3.10.9 ('base')",
   "language": "python",
   "name": "python3"
  },
  "language_info": {
   "codemirror_mode": {
    "name": "ipython",
    "version": 3
   },
   "file_extension": ".py",
   "mimetype": "text/x-python",
   "name": "python",
   "nbconvert_exporter": "python",
   "pygments_lexer": "ipython3",
   "version": "3.10.9"
  },
  "orig_nbformat": 4,
  "vscode": {
   "interpreter": {
    "hash": "d4d1e4263499bec80672ea0156c357c1ee493ec2b1c70f0acce89fc37c4a6abe"
   }
  }
 },
 "nbformat": 4,
 "nbformat_minor": 2
}
